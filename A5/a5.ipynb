{
 "cells": [
  {
   "cell_type": "markdown",
   "metadata": {},
   "source": [
    "# Assignment 5\n",
    "\n",
    "**Deadline**: March 7, 9pm\n",
    "\n",
    "**Late Penalty**: See Syllabus\n",
    "\n",
    "**TA**: Kingsley Chang\n",
    "\n",
    "In this assignment, we will build a recurrent neural network to classify a SMS text message\n",
    "as \"spam\" or \"not spam\". In the process, you will\n",
    "    \n",
    "1. Clean and process text data for machine learning.\n",
    "2. Understand and implement a character-level recurrent neural network.\n",
    "3. Use torchtext to build recurrent neural network models.\n",
    "4. Understand batching for a recurrent neural network, and use torchtext to implement RNN batching.\n",
    "\n",
    "### What to submit\n",
    "\n",
    "Submit a PDF file containing all your code and outputs. Do not submit any other files produced by your code.\n",
    "\n",
    "Completing this assignment using Jupyter Notebook is recommended (though not necessarily for all subsequent assignments). If you are using Jupyter Notebook, you can export a PDF file using the menu option File -> Download As -> PDF via LaTeX (pdf)"
   ]
  },
  {
   "cell_type": "code",
   "execution_count": 1,
   "metadata": {},
   "outputs": [],
   "source": [
    "import torch\n",
    "import torch.nn as nn\n",
    "import torch.nn.functional as F\n",
    "import torch.optim as optim\n",
    "import numpy as np\n",
    "import matplotlib.pyplot as plt\n",
    "import time"
   ]
  },
  {
   "cell_type": "markdown",
   "metadata": {},
   "source": [
    "## Part 1. Data Cleaning [12 pt]\n",
    "\n",
    "We will be using the \"SMS Spam Collection Data Set\" available at http://archive.ics.uci.edu/ml/datasets/SMS+Spam+Collection\n",
    "    \n",
    "Download and unzip the Data Folder, and move the file `SMSSpamCollection` to your\n",
    "working directory. (Same folder as this notebook)"
   ]
  },
  {
   "cell_type": "markdown",
   "metadata": {},
   "source": [
    "### Part (a) [1 pt]\n",
    "\n",
    "Open up the file in Python. Print out one example of a spam SMS, and one example of a non-spam SMS."
   ]
  },
  {
   "cell_type": "code",
   "execution_count": 2,
   "metadata": {},
   "outputs": [
    {
     "name": "stdout",
     "output_type": "stream",
     "text": [
      "ham\tGo until jurong point, crazy.. Available only in bugis n great world la e buffet... Cine there got amore wat...\n",
      "\n",
      "spam\tFree entry in 2 a wkly comp to win FA Cup final tkts 21st May 2005. Text FA to 87121 to receive entry question(std txt rate)T&C's apply 08452810075over18's\n",
      "\n"
     ]
    }
   ],
   "source": [
    "c = 0\n",
    "for line in open('SMSSpamCollection'):\n",
    "    if c >1:\n",
    "        break\n",
    "    if line[0] == 'h' and c == 0:\n",
    "        print(line)\n",
    "        c+=1\n",
    "    elif line[0] == 's':\n",
    "        print(line)\n",
    "        c+=1"
   ]
  },
  {
   "cell_type": "markdown",
   "metadata": {},
   "source": [
    "### Part (b) [1 pt]\n",
    "\n",
    "How many spam messages and non-spam messages are there in the data set?"
   ]
  },
  {
   "cell_type": "code",
   "execution_count": 3,
   "metadata": {},
   "outputs": [
    {
     "name": "stdout",
     "output_type": "stream",
     "text": [
      "747\n",
      "4827\n"
     ]
    }
   ],
   "source": [
    "cs = 0\n",
    "ch = 0\n",
    "for line in open('SMSSpamCollection'):\n",
    "    if line[0] == 's':\n",
    "        cs+=1\n",
    "    elif line[0] == 'h':\n",
    "        ch+=1\n",
    "print(cs)\n",
    "print(ch)"
   ]
  },
  {
   "cell_type": "markdown",
   "metadata": {},
   "source": [
    "### Part (c) [2 pt]\n",
    "\n",
    "We will be using the package `torchtext` to load, process, and batch the data.\n",
    "A tutorial to torchtext is available below. This tutorial uses the same\n",
    "Sentiment140 data set that we explored during lecture.\n",
    "\n",
    "https://medium.com/@sonicboom8/sentiment-analysis-torchtext-55fb57b1fab8\n",
    "\n",
    "One major difference is that we will be building a **character level RNN**.\n",
    "That is, we will treat each **character** as a token in our sequence,\n",
    "rather than each **word**.\n",
    "\n",
    "Identify one advantage and one disadvantage of modelling SMS text\n",
    "messages as a sequence of characters rather than a sequence of words."
   ]
  },
  {
   "cell_type": "markdown",
   "metadata": {},
   "source": [
    "    One advantage is that using character level modeling will result in the ability to identify misspelling in sentences. If we are using word level idenfication, there won't be a weight for the misspelled word. "
   ]
  },
  {
   "cell_type": "markdown",
   "metadata": {},
   "source": [
    "### Part (d) [1 pt]\n",
    "\n",
    "We will be loading our data set using `torchtext.data.TabularDataset`. The\n",
    "constructor will read directly from the `SMSSpamCollection` file. \n",
    "\n",
    "For the data file to be read successfuly, we\n",
    "need to specify the **fields** (columns) in the file. \n",
    "In our case, the dataset has two fields: \n",
    "\n",
    "- a text field containing the sms messages,\n",
    "- a label field which will be converted into a binary label.\n",
    "\n",
    "Split the dataset into `train`, `valid`, and `test`. Use a 60-20-20 split.\n",
    "You may find this torchtext API page helpful:\n",
    "https://torchtext.readthedocs.io/en/latest/data.html#dataset"
   ]
  },
  {
   "cell_type": "code",
   "execution_count": 4,
   "metadata": {},
   "outputs": [],
   "source": [
    "import torchtext\n",
    "\n",
    "text_field = torchtext.data.Field(sequential=True,      # text sequence\n",
    "                                  tokenize=lambda x: x, # because are building a character-RNN\n",
    "                                  include_lengths=True, # to track the length of sequences, for batching\n",
    "                                  batch_first=True,\n",
    "                                  use_vocab=True)       # to turn each character into an integer index\n",
    "label_field = torchtext.data.Field(sequential=False,    # not a sequence\n",
    "                                   use_vocab=False,     # don't need to track vocabulary\n",
    "                                   is_target=True,      \n",
    "                                   batch_first=True,\n",
    "                                   preprocessing=lambda x: int(x == 'spam')) # convert text to 0 and 1\n",
    "\n",
    "fields = [('label', label_field), ('sms', text_field)]\n",
    "dataset = torchtext.data.TabularDataset(\"SMSSpamCollection\", # name of the file\n",
    "                                        \"tsv\",               # fields are separated by a tab\n",
    "                                        fields)\n",
    "# dataset[0].sms\n",
    "# dataset[0].label\n",
    "\n",
    "# train, valid, test =  ...\n",
    "train, valid, test = dataset.split(split_ratio=[0.6,0.2,0.2])"
   ]
  },
  {
   "cell_type": "code",
   "execution_count": null,
   "metadata": {},
   "outputs": [],
   "source": []
  },
  {
   "cell_type": "markdown",
   "metadata": {},
   "source": [
    "### Part (e) [2 pt]\n",
    "\n",
    "You saw in part (b) that there are much more non-spam messages than spam messages.\n",
    "This **imbalance** in our training data will be problematic for training.\n",
    "\n",
    "We can fix this disparity by duplicating non-spam messages in the training set,\n",
    "so that the training set is roughly **balanced**.\n",
    "\n",
    "Explain why having a balanced training set is helpful for training our neural network.\n",
    "\n",
    "Note: if you are not sure, try removing the below code and train your mode."
   ]
  },
  {
   "cell_type": "code",
   "execution_count": 5,
   "metadata": {},
   "outputs": [],
   "source": [
    "# save the original training examples\n",
    "old_train_examples = train.examples\n",
    "# get all the spam messages in `train`\n",
    "train_spam = []\n",
    "for item in train.examples:\n",
    "    if item.label == 1:\n",
    "        train_spam.append(item)\n",
    "# duplicate each spam message 6 more times\n",
    "train.examples = old_train_examples + train_spam * 6"
   ]
  },
  {
   "cell_type": "markdown",
   "metadata": {},
   "source": [
    "    Having a balanced training set would prevent the wieght to be over dependent on certain features. Therefore, having a more balance training set would prevent this from happening and limit the use of weight balancing method. "
   ]
  },
  {
   "cell_type": "markdown",
   "metadata": {},
   "source": [
    "### Part (f) [1 pt]\n",
    "\n",
    "We need to build the vocabulary on the training data by running the below code.\n",
    "This finds all the possible character tokens in the training set.\n",
    "\n",
    "Explain what the variables `text_field.vocab.stoi` and `text_field.vocab.itos` represent."
   ]
  },
  {
   "cell_type": "code",
   "execution_count": 6,
   "metadata": {},
   "outputs": [],
   "source": [
    "text_field.build_vocab(train)\n",
    "#text_field.vocab.stoi\n",
    "#text_field.vocab.itos"
   ]
  },
  {
   "cell_type": "markdown",
   "metadata": {},
   "source": [
    "       text_field.vocab.stoi is used to find the corresponding index given a character. \n",
    "       text_field.vocab.itos is used to find the corresponding character given index."
   ]
  },
  {
   "cell_type": "markdown",
   "metadata": {},
   "source": [
    "### Part (g) [2 pt]\n",
    "\n",
    "The tokens `<unk>` and `<pad>` were not in our SMS text messages.\n",
    "What do these two values represent?"
   ]
  },
  {
   "cell_type": "markdown",
   "metadata": {},
   "source": [
    "    pad_token – The string token used as padding. Default: “<pad>”.\n",
    "    unk_token – The string token used to represent Out Of Vocabulary words. Default: “<unk>”."
   ]
  },
  {
   "cell_type": "markdown",
   "metadata": {},
   "source": [
    "### Part (h) [2 pt]\n",
    "\n",
    "Since text sequences are of variable length, `torchtext` provides a `BucketIterator` data loader,\n",
    "which batches similar length sequences together. The iterator also provides functionalities to\n",
    "pad sequences automatically.\n",
    "\n",
    "Take a look at ~10 batches in `train_iter`. What is the maximum length of the\n",
    "input sequence in each batch? How many `<pad>` tokens are used in each of the ~10\n",
    "batches?"
   ]
  },
  {
   "cell_type": "code",
   "execution_count": 7,
   "metadata": {},
   "outputs": [],
   "source": [
    "train_iter = torchtext.data.BucketIterator(train,\n",
    "                                           batch_size=32,\n",
    "                                           sort_key=lambda x: len(x.sms), # to minimize padding\n",
    "                                           sort_within_batch=True,        # sort within each batch\n",
    "                                           repeat=True)                   # repeat the iterator for multiple epochs"
   ]
  },
  {
   "cell_type": "code",
   "execution_count": 23,
   "metadata": {
    "scrolled": false
   },
   "outputs": [
    {
     "name": "stdout",
     "output_type": "stream",
     "text": [
      "Max Length is:  143\n",
      "Number of padding is:  29\n",
      "Max Length is:  160\n",
      "Number of padding is:  0\n",
      "Max Length is:  22\n",
      "Number of padding is:  0\n",
      "Max Length is:  54\n",
      "Number of padding is:  23\n",
      "Max Length is:  158\n",
      "Number of padding is:  0\n",
      "Max Length is:  49\n",
      "Number of padding is:  14\n",
      "Max Length is:  156\n",
      "Number of padding is:  0\n",
      "Max Length is:  138\n",
      "Number of padding is:  15\n",
      "Max Length is:  95\n",
      "Number of padding is:  29\n",
      "Max Length is:  146\n",
      "Number of padding is:  12\n"
     ]
    }
   ],
   "source": [
    "for i, batch in enumerate(train_iter):\n",
    "    if i >= 10:\n",
    "        break\n",
    "    count = 0\n",
    "    maxLen = batch.sms[0].shape[1]\n",
    "    print(\"Max Length is: \", maxLen)\n",
    "    for i in batch.sms[1]:\n",
    "        count += maxLen - int(i)\n",
    "    print(\"Number of padding is: \", count)\n",
    "    \n",
    "    #print(batch.label)"
   ]
  },
  {
   "cell_type": "markdown",
   "metadata": {},
   "source": [
    "## Part 2. Model Building [10 pt]\n",
    "\n",
    "Build a recurrent neural network model, using an architecture of your choosing. \n",
    "Use the one-hot embedding of each character as input to your recurrent network.\n",
    "Use one or more fully-connected layers to make the prediction based on your\n",
    "recurrent network output.\n",
    "\n",
    "Instead of using the RNN output value for the final token, another often used\n",
    "strategy is to max-pool over the entire output array. That is, instead of calling\n",
    "something like:\n",
    "\n",
    "```\n",
    "out, _ = self.rnn(x)\n",
    "self.fc(out[:, -1, :])\n",
    "```\n",
    "\n",
    "where `self.rnn` is an `nn.RNN` or `nn.LSTM` module, and `self.fc` is a linear\n",
    "layer, we use:\n",
    "\n",
    "```\n",
    "out, _ = self.rnn(x)\n",
    "self.fc(torch.max(out, dim=1)[0])\n",
    "```\n",
    "\n",
    "This works reasonably in practice."
   ]
  },
  {
   "cell_type": "code",
   "execution_count": 9,
   "metadata": {},
   "outputs": [
    {
     "name": "stdout",
     "output_type": "stream",
     "text": [
      "tensor([1., 0., 0., 0., 0., 0., 0., 0., 0., 0.])\n",
      "tensor([0., 1., 0., 0., 0., 0., 0., 0., 0., 0.])\n",
      "tensor([[[0., 1., 0., 0., 0., 0., 0., 0., 0., 0.],\n",
      "         [0., 0., 1., 0., 0., 0., 0., 0., 0., 0.]],\n",
      "\n",
      "        [[0., 0., 0., 1., 0., 0., 0., 0., 0., 0.],\n",
      "         [0., 0., 0., 0., 1., 0., 0., 0., 0., 0.]]])\n"
     ]
    }
   ],
   "source": [
    "# You mind find this code helpful for obtaining\n",
    "# pytorch one-hot vectors.\n",
    "\n",
    "ident = torch.eye(10)\n",
    "print(ident[0]) # one-hot vector\n",
    "print(ident[1]) # one-hot vector\n",
    "x = torch.tensor([[1, 2], [3, 4]])\n",
    "print(ident[x]) # one-hot vectors"
   ]
  },
  {
   "cell_type": "code",
   "execution_count": 10,
   "metadata": {},
   "outputs": [],
   "source": [
    "class SpamDetector(nn.Module):\n",
    "    def __init__(self, vocab_size, hidden_size, num_classes):\n",
    "        super(SpamDetector, self).__init__()\n",
    "        # RNN attributes\n",
    "        self.vocab_size = vocab_size\n",
    "        self.hidden_size = hidden_size\n",
    "        self.n_class = num_classes\n",
    "        # identiy matrix for generating one-hot vectors\n",
    "        self.ident = torch.eye(vocab_size)\n",
    "        # recurrent neural network\n",
    "        self.rnn = nn.RNN(vocab_size, hidden_size, num_classes, batch_first=True)\n",
    "        # a fully-connect layer that decodes the RNN output to\n",
    "        # a distribution over the vocabulary\n",
    "        self.decoder = nn.Linear(hidden_size, num_classes)\n",
    "    \n",
    "    def forward(self, inp):\n",
    "        # reshape the input tensor to [1, seq_length]\n",
    "        #inp = inp.view(1, -1)\n",
    "        \n",
    "        # generate one-hot vectors from token indices\n",
    "        inp = self.ident[inp]\n",
    "        h0 = torch.zeros(self.n_class, inp.size(0), self.hidden_size)\n",
    "        #h0 = torch.zeros(self.n_class, 1, self.hidden_size)\n",
    "        # obtain the next output and hidden state\n",
    "        output, _ = self.rnn(inp,h0)\n",
    "        # run the decoder\n",
    "        output = self.decoder(torch.max(output, dim=1)[0])\n",
    "        return output\n",
    "\n",
    "    #def init_hidden(self):\n",
    "     #   return torch.zeros(self.n_class, 1, self.hidden_size)"
   ]
  },
  {
   "cell_type": "code",
   "execution_count": 11,
   "metadata": {},
   "outputs": [
    {
     "name": "stdout",
     "output_type": "stream",
     "text": [
      "torch.Size([32, 2])\n"
     ]
    }
   ],
   "source": [
    "# This code is here to help you test your model.\n",
    "# You may beed to change this depending on how your forward\n",
    "# function is set up.\n",
    "\n",
    "model = SpamDetector(len(text_field.vocab),20,2)\n",
    "sample_batch = next(iter(train_iter))\n",
    "sms = sample_batch.sms[0]\n",
    "length = sample_batch.sms[1]\n",
    "y = model(sms)\n",
    "print(y.shape)"
   ]
  },
  {
   "cell_type": "markdown",
   "metadata": {},
   "source": [
    "## Part 3. Training [15 pt]\n",
    "\n",
    "### Part (a) [8 pt]\n",
    "\n",
    "Train your model. Plot the training curve of your final model. \n",
    "Your training curve should have the training/validation loss and\n",
    "accuracy plotted periodically. You can use the following code to\n",
    "compute your accuracy.\n"
   ]
  },
  {
   "cell_type": "code",
   "execution_count": 12,
   "metadata": {},
   "outputs": [],
   "source": [
    "def get_accuracy(model, data):\n",
    "    data_iter = torchtext.data.BucketIterator(data, \n",
    "                                              batch_size=64, \n",
    "                                              sort_key=lambda x: len(x.sms), \n",
    "                                              repeat=False)\n",
    "    correct, total = 0, 0\n",
    "    for i, batch in enumerate(data_iter):\n",
    "        output = model(batch.sms[0]) # You may need to modify this, depending on your model setup\n",
    "        pred = output.max(1, keepdim=True)[1]\n",
    "        correct += pred.eq(batch.label.view_as(pred)).sum().item()\n",
    "        total += batch.sms[1].shape[0]\n",
    "    return correct / total"
   ]
  },
  {
   "cell_type": "code",
   "execution_count": 13,
   "metadata": {},
   "outputs": [],
   "source": [
    "def train_rnn_network(model, num_epochs=5, BS=64,learning_rate=1e-5):\n",
    "    criterion = nn.CrossEntropyLoss()\n",
    "    optimizer = torch.optim.Adam(model.parameters(), lr=learning_rate)\n",
    "    losses, train_acc, valid_acc = [], [], []\n",
    "    epochs = []\n",
    "    \n",
    "    train_it = torchtext.data.BucketIterator(train, \n",
    "                                              batch_size=BS, \n",
    "                                              sort_key=lambda x: len(x.sms), \n",
    "                                              repeat=False)\n",
    "    \n",
    "    valid_it = torchtext.data.BucketIterator(valid, \n",
    "                                              batch_size=BS, \n",
    "                                              sort_key=lambda x: len(x.sms), \n",
    "                                              repeat=False)\n",
    "    start_time = time.time()\n",
    "    for epoch in range(num_epochs):\n",
    "        for i, batch in enumerate(train_it):\n",
    "            \n",
    "            optimizer.zero_grad()\n",
    "            output = model(batch.sms[0])\n",
    "            loss = criterion(output, batch.label)\n",
    "            loss.backward()\n",
    "            optimizer.step()\n",
    "        losses.append(float(loss))\n",
    "\n",
    "        epochs.append(epoch)\n",
    "        train_acc.append(get_accuracy(model, train))\n",
    "        valid_acc.append(get_accuracy(model, valid))\n",
    "        print(\"Epoch %d; Loss %f; Train Acc %f; Val Acc %f\" % (\n",
    "              epoch+1, loss, train_acc[-1], valid_acc[-1]))\n",
    "    \n",
    "    print('Finished Training')\n",
    "    end_time = time.time()\n",
    "    elapsed_time = end_time - start_time\n",
    "    print(\"Total time elapsed: {:.2f} seconds\".format(elapsed_time))\n",
    "    \n",
    "    # plotting\n",
    "    plt.title(\"Training Curve\")\n",
    "    plt.plot(losses, label=\"Train\")\n",
    "    plt.xlabel(\"Epoch\")\n",
    "    plt.ylabel(\"Loss\")\n",
    "    plt.show()\n",
    "\n",
    "    plt.title(\"Training Curve\")\n",
    "    plt.plot(epochs, train_acc, label=\"Train\")\n",
    "    plt.plot(epochs, valid_acc, label=\"Validation\")\n",
    "    plt.xlabel(\"Epoch\")\n",
    "    plt.ylabel(\"Accuracy\")\n",
    "    plt.legend(loc='best')\n",
    "    plt.show()"
   ]
  },
  {
   "cell_type": "markdown",
   "metadata": {},
   "source": [
    "### Part (b) [5 pt]\n",
    "\n",
    "Choose at least 4 hyper parameters to tune. Explain how you tuned the hyper parameters.\n",
    "You don't need to include your traing curve for every model you trained.\n",
    "Instead, explain what hyper paremters you tuned, what the validation accuracy was,\n",
    "and the reasoning behind the hyper parameter decisions you made.\n",
    "\n",
    "For this assignment, you should tune more than just your learning rate and epoch. \n",
    "Choose at least 2 hyper parameters that are unrelated to the optimizer."
   ]
  },
  {
   "cell_type": "markdown",
   "metadata": {},
   "source": [
    "### First Training model\n",
    "The first model referenced the model established in class. As 20 hidden layers are used to build the model. The learning rate of the model is increased from the default value to 0.0001 and the num_epoches is also increased for the relatively low learning rate. The batches size remained the same as default for this case. "
   ]
  },
  {
   "cell_type": "code",
   "execution_count": 14,
   "metadata": {},
   "outputs": [
    {
     "name": "stdout",
     "output_type": "stream",
     "text": [
      "Epoch 1; Loss 0.676908; Train Acc 0.671231; Val Acc 0.883408\n",
      "Epoch 2; Loss 0.659588; Train Acc 0.779429; Val Acc 0.594619\n",
      "Epoch 3; Loss 0.643108; Train Acc 0.875438; Val Acc 0.791928\n",
      "Epoch 4; Loss 0.578816; Train Acc 0.926866; Val Acc 0.943498\n",
      "Epoch 5; Loss 0.434888; Train Acc 0.918350; Val Acc 0.951570\n",
      "Epoch 6; Loss 0.303540; Train Acc 0.921356; Val Acc 0.897758\n",
      "Epoch 7; Loss 0.241179; Train Acc 0.944899; Val Acc 0.939910\n",
      "Epoch 8; Loss 0.177910; Train Acc 0.950910; Val Acc 0.946188\n",
      "Epoch 9; Loss 0.206907; Train Acc 0.950910; Val Acc 0.929148\n",
      "Epoch 10; Loss 0.156451; Train Acc 0.952079; Val Acc 0.957848\n",
      "Epoch 11; Loss 0.255049; Train Acc 0.960761; Val Acc 0.942601\n",
      "Epoch 12; Loss 0.125195; Train Acc 0.963934; Val Acc 0.932735\n",
      "Epoch 13; Loss 0.135225; Train Acc 0.962264; Val Acc 0.947982\n",
      "Epoch 14; Loss 0.195397; Train Acc 0.962097; Val Acc 0.929148\n",
      "Epoch 15; Loss 0.166576; Train Acc 0.966605; Val Acc 0.939910\n",
      "Epoch 16; Loss 0.219082; Train Acc 0.966105; Val Acc 0.952466\n",
      "Epoch 17; Loss 0.219296; Train Acc 0.969444; Val Acc 0.950673\n",
      "Epoch 18; Loss 0.140594; Train Acc 0.970112; Val Acc 0.949776\n",
      "Epoch 19; Loss 0.059830; Train Acc 0.970947; Val Acc 0.948879\n",
      "Epoch 20; Loss 0.102157; Train Acc 0.972283; Val Acc 0.952466\n",
      "Epoch 21; Loss 0.208975; Train Acc 0.966939; Val Acc 0.959641\n",
      "Epoch 22; Loss 0.143993; Train Acc 0.973284; Val Acc 0.956054\n",
      "Epoch 23; Loss 0.086829; Train Acc 0.970947; Val Acc 0.965022\n",
      "Epoch 24; Loss 0.141015; Train Acc 0.973618; Val Acc 0.955157\n",
      "Epoch 25; Loss 0.083648; Train Acc 0.974954; Val Acc 0.957848\n",
      "Epoch 26; Loss 0.064685; Train Acc 0.975121; Val Acc 0.962332\n",
      "Epoch 27; Loss 0.127266; Train Acc 0.972116; Val Acc 0.967713\n",
      "Epoch 28; Loss 0.140403; Train Acc 0.974286; Val Acc 0.959641\n",
      "Epoch 29; Loss 0.169614; Train Acc 0.968609; Val Acc 0.972197\n",
      "Epoch 30; Loss 0.091086; Train Acc 0.977626; Val Acc 0.968610\n",
      "Finished Training\n",
      "Total time elapsed: 549.04 seconds\n"
     ]
    },
    {
     "data": {
      "image/png": "[encoded data removed]",
      "text/plain": [
       "<Figure size 432x288 with 1 Axes>"
      ]
     },
     "metadata": {
      "needs_background": "light"
     },
     "output_type": "display_data"
    },
    {
     "data": {
      "image/png": "[encoded data removed]",
      "text/plain": [
       "<Figure size 432x288 with 1 Axes>"
      ]
     },
     "metadata": {
      "needs_background": "light"
     },
     "output_type": "display_data"
    }
   ],
   "source": [
    "m1 = SpamDetector(len(text_field.vocab),20,2)\n",
    "train_rnn_network(m1, learning_rate = 0.0001, num_epochs = 30)"
   ]
  },
  {
   "cell_type": "markdown",
   "metadata": {},
   "source": [
    "### Second Training Model\n",
    "\n",
    "As shown above, the result of the model seems to meet expectations. Now I want to explore the effect of changing the number of hidden layers of the model. I would expect that the time for this model to train will increase from the one we had above."
   ]
  },
  {
   "cell_type": "code",
   "execution_count": 15,
   "metadata": {},
   "outputs": [
    {
     "name": "stdout",
     "output_type": "stream",
     "text": [
      "Epoch 1; Loss 0.650981; Train Acc 0.574720; Val Acc 0.231390\n",
      "Epoch 2; Loss 0.274388; Train Acc 0.923860; Val Acc 0.953363\n",
      "Epoch 3; Loss 0.163808; Train Acc 0.938220; Val Acc 0.939910\n",
      "Epoch 4; Loss 0.137275; Train Acc 0.928870; Val Acc 0.890583\n",
      "Epoch 5; Loss 0.133834; Train Acc 0.946736; Val Acc 0.942601\n",
      "Epoch 6; Loss 0.145344; Train Acc 0.948906; Val Acc 0.948879\n",
      "Epoch 7; Loss 0.111269; Train Acc 0.954583; Val Acc 0.947085\n",
      "Epoch 8; Loss 0.090212; Train Acc 0.955585; Val Acc 0.953363\n",
      "Epoch 9; Loss 0.150310; Train Acc 0.934547; Val Acc 0.889686\n",
      "Epoch 10; Loss 0.055158; Train Acc 0.966271; Val Acc 0.957848\n",
      "Epoch 11; Loss 0.156747; Train Acc 0.969945; Val Acc 0.968610\n",
      "Epoch 12; Loss 0.083862; Train Acc 0.970613; Val Acc 0.967713\n",
      "Epoch 13; Loss 0.047743; Train Acc 0.970780; Val Acc 0.965022\n",
      "Epoch 14; Loss 0.123916; Train Acc 0.976791; Val Acc 0.973991\n",
      "Epoch 15; Loss 0.097232; Train Acc 0.976958; Val Acc 0.972197\n",
      "Epoch 16; Loss 0.130762; Train Acc 0.975956; Val Acc 0.973991\n",
      "Epoch 17; Loss 0.157626; Train Acc 0.978627; Val Acc 0.969507\n",
      "Epoch 18; Loss 0.049596; Train Acc 0.975622; Val Acc 0.975785\n",
      "Epoch 19; Loss 0.067781; Train Acc 0.979963; Val Acc 0.962332\n",
      "Epoch 20; Loss 0.036092; Train Acc 0.980798; Val Acc 0.967713\n",
      "Epoch 21; Loss 0.204343; Train Acc 0.984138; Val Acc 0.973094\n",
      "Epoch 22; Loss 0.083842; Train Acc 0.986809; Val Acc 0.973094\n",
      "Epoch 23; Loss 0.064566; Train Acc 0.983804; Val Acc 0.972197\n",
      "Epoch 24; Loss 0.067344; Train Acc 0.981967; Val Acc 0.965919\n",
      "Epoch 25; Loss 0.020377; Train Acc 0.982301; Val Acc 0.965022\n",
      "Epoch 26; Loss 0.017802; Train Acc 0.982468; Val Acc 0.976682\n",
      "Epoch 27; Loss 0.153457; Train Acc 0.968442; Val Acc 0.976682\n",
      "Epoch 28; Loss 0.180901; Train Acc 0.984972; Val Acc 0.971300\n",
      "Epoch 29; Loss 0.058366; Train Acc 0.980130; Val Acc 0.963229\n",
      "Epoch 30; Loss 0.027441; Train Acc 0.986475; Val Acc 0.977578\n",
      "Finished Training\n",
      "Total time elapsed: 1292.73 seconds\n"
     ]
    },
    {
     "data": {
      "image/png": "[encoded data removed]",
      "text/plain": [
       "<Figure size 432x288 with 1 Axes>"
      ]
     },
     "metadata": {
      "needs_background": "light"
     },
     "output_type": "display_data"
    },
    {
     "data": {
      "image/png": "[encoded data removed]",
      "text/plain": [
       "<Figure size 432x288 with 1 Axes>"
      ]
     },
     "metadata": {
      "needs_background": "light"
     },
     "output_type": "display_data"
    }
   ],
   "source": [
    "m2 = SpamDetector(len(text_field.vocab),80,2)\n",
    "train_rnn_network(m2, learning_rate = 0.0001, num_epochs = 30)"
   ]
  },
  {
   "cell_type": "markdown",
   "metadata": {},
   "source": [
    "### Third Training Model\n",
    "\n",
    "As seem from the training curve above, more hidden layer in this case resulted in increase in noise give similar parameters. In order to decrease the noise of the model, I have increased the batch size for the third model. This model might take longer, therfore I am decreasing the number of epochs to 20. However, this action may cause the model to overfit to the data"
   ]
  },
  {
   "cell_type": "code",
   "execution_count": 16,
   "metadata": {},
   "outputs": [
    {
     "name": "stdout",
     "output_type": "stream",
     "text": [
      "Epoch 1; Loss 0.666306; Train Acc 0.523961; Val Acc 0.142601\n",
      "Epoch 2; Loss 0.627660; Train Acc 0.930706; Val Acc 0.881614\n",
      "Epoch 3; Loss 0.444529; Train Acc 0.932209; Val Acc 0.932735\n",
      "Epoch 4; Loss 0.295445; Train Acc 0.935048; Val Acc 0.914798\n",
      "Epoch 5; Loss 0.885941; Train Acc 0.515445; Val Acc 0.130045\n",
      "Epoch 6; Loss 0.588948; Train Acc 0.910169; Val Acc 0.926457\n",
      "Epoch 7; Loss 0.564798; Train Acc 0.782601; Val Acc 0.919283\n",
      "Epoch 8; Loss 0.507522; Train Acc 0.725831; Val Acc 0.910314\n",
      "Epoch 9; Loss 0.640863; Train Acc 0.759392; Val Acc 0.938117\n",
      "Epoch 10; Loss 0.416823; Train Acc 0.838704; Val Acc 0.951570\n",
      "Epoch 11; Loss 0.470188; Train Acc 0.858073; Val Acc 0.957848\n",
      "Epoch 12; Loss 0.311932; Train Acc 0.896477; Val Acc 0.958744\n",
      "Epoch 13; Loss 0.308885; Train Acc 0.902822; Val Acc 0.959641\n",
      "Epoch 14; Loss 0.305090; Train Acc 0.905326; Val Acc 0.960538\n",
      "Epoch 15; Loss 0.283414; Train Acc 0.908499; Val Acc 0.960538\n",
      "Epoch 16; Loss 0.304938; Train Acc 0.914510; Val Acc 0.960538\n",
      "Epoch 17; Loss 0.325925; Train Acc 0.914510; Val Acc 0.961435\n",
      "Epoch 18; Loss 0.376294; Train Acc 0.914343; Val Acc 0.961435\n",
      "Epoch 19; Loss 0.223862; Train Acc 0.915512; Val Acc 0.960538\n",
      "Epoch 20; Loss 0.224067; Train Acc 0.921022; Val Acc 0.960538\n",
      "Finished Training\n",
      "Total time elapsed: 797.42 seconds\n"
     ]
    },
    {
     "data": {
      "image/png": "[encoded data removed]",
      "text/plain": [
       "<Figure size 432x288 with 1 Axes>"
      ]
     },
     "metadata": {
      "needs_background": "light"
     },
     "output_type": "display_data"
    },
    {
     "data": {
      "image/png": "[encoded data removed]",
      "text/plain": [
       "<Figure size 432x288 with 1 Axes>"
      ]
     },
     "metadata": {
      "needs_background": "light"
     },
     "output_type": "display_data"
    }
   ],
   "source": [
    "m3 = SpamDetector(len(text_field.vocab),80,2)\n",
    "train_rnn_network(m3, learning_rate = 0.0001, num_epochs = 20, BS = 128)"
   ]
  },
  {
   "cell_type": "markdown",
   "metadata": {},
   "source": [
    "### Part (c) [2 pt]\n",
    "\n",
    "Report the final test accuracy of your model. You should be able to obtain fairly good accuracy for this model."
   ]
  },
  {
   "cell_type": "code",
   "execution_count": 21,
   "metadata": {},
   "outputs": [
    {
     "name": "stdout",
     "output_type": "stream",
     "text": [
      "0.9766606822262118\n"
     ]
    }
   ],
   "source": [
    "acc = get_accuracy(m2, test)\n",
    "print(acc)"
   ]
  },
  {
   "cell_type": "markdown",
   "metadata": {},
   "source": [
    "## Part 4. Baseline Model [3 pt]\n",
    "\n",
    "Do you think detecting spam is an easy or difficult task?\n",
    "One way to answer this question is to think of a **baseline model**: a simple\n",
    "model that is easy to build and inexpensive to run, that we can compare our\n",
    "recurrent neural network model against.\n",
    "\n",
    "Explain how you might build a simple baseline model. This baseline model\n",
    "can be a simple neural network (with very few weights), a hand-written algorithm,\n",
    "or any other strategy that is easy to build and test.\n",
    "\n",
    "Since machine learning models are expensive to train and deploy, it is very\n",
    "important to compare our models against baseline models."
   ]
  },
  {
   "cell_type": "markdown",
   "metadata": {},
   "source": [
    "For the purpose of this lab, a spam detector could be implemented by using detection of common words. For example, most of the words in spam messages could include FREE, PROMO or SALES. By making an algrothism to count the number of these words present in the message could be a baseline model for the spam detection model. \n",
    "\n",
    "This model does not require training and would be very cost effective for evaluation purposes."
   ]
  },
  {
   "cell_type": "code",
   "execution_count": null,
   "metadata": {},
   "outputs": [],
   "source": []
  }
 ],
 "metadata": {
  "kernelspec": {
   "display_name": "Python 3",
   "language": "python",
   "name": "python3"
  },
  "language_info": {
   "codemirror_mode": {
    "name": "ipython",
    "version": 3
   },
   "file_extension": ".py",
   "mimetype": "text/x-python",
   "name": "python",
   "nbconvert_exporter": "python",
   "pygments_lexer": "ipython3",
   "version": "3.6.7"
  }
 },
 "nbformat": 4,
 "nbformat_minor": 2
}
