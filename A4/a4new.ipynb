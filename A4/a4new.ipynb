{
 "cells": [
  {
   "cell_type": "markdown",
   "metadata": {},
   "source": [
    "# Assignment 4\n",
    "\n",
    "**Deadline**: February 17, 9pm\n",
    "\n",
    "**Late Penalty**: See Syllabus\n",
    "\n",
    "**TA**: Hojjat Salehinejad\n",
    "\n",
    "In this assignment, you will build and train an autoencoder for imputation of missing data. In the process, you will:\n",
    "\n",
    "1. Clean and process continuous and categorical data for machine learning.\n",
    "2. Understand and implement denoising autoencoders.\n",
    "3. Tuning the hyperparameter setting of an autoencoder.\n",
    "\n",
    "### What to submit\n",
    "\n",
    "Submit a PDF file containing all your code and outputs. Do not submit any other files produced by your code.\n",
    "\n",
    "Completing this assignment using Jupyter Notebook is recommended (though not necessarily for all subsequent assignments). If you are using Jupyter Notebook, you can export a PDF file using the menu option File -> Download As -> PDF via LaTeX (pdf)"
   ]
  },
  {
   "cell_type": "code",
   "execution_count": 1,
   "metadata": {},
   "outputs": [],
   "source": [
    "import csv\n",
    "import numpy as np\n",
    "import random\n",
    "import torch\n",
    "import torch.utils.data"
   ]
  },
  {
   "cell_type": "markdown",
   "metadata": {},
   "source": [
    "## Part 0\n",
    "\n",
    "We will be using a package called `pandas` for this assignment. \n",
    "Installation instructions for `pandas` is available here: \n",
    "https://pandas.pydata.org/pandas-docs/stable/install.html\n",
    "\n",
    "If you cannot get `pandas` installed, you may port the `pandas` code\n",
    "we provided into `numpy` code."
   ]
  },
  {
   "cell_type": "code",
   "execution_count": 2,
   "metadata": {},
   "outputs": [],
   "source": [
    "import pandas as pd"
   ]
  },
  {
   "cell_type": "markdown",
   "metadata": {},
   "source": [
    "# Part 1. Data Cleaning [12 pt]\n",
    "\n",
    "The data set we will be using for this assignment is the \n",
    "Adult Data Set provided by UCI Machine Learning Repository [1] available \n",
    "at https://archive.ics.uci.edu/ml/datasets/adult.\n",
    "\n",
    "Download the file `adult.data` from the website.\n",
    "\n",
    "The data set contains census record files of adults, including their\n",
    "age, type of work they do, martial status, etc. We will build a denoising\n",
    "autoencoder on this dataset to impute (or \"fill in\") missing values\n",
    "in the dataset.\n",
    "\n",
    "[1] Dua, D. and Karra Taniskidou, E. (2017). UCI Machine Learning Repository [http://archive.ics.uci.edu/ml]. Irvine, CA: University of California, School of Information and Computer Science."
   ]
  },
  {
   "cell_type": "markdown",
   "metadata": {},
   "source": [
    "### Part (a) Loading the Data [1 pt]\n",
    "\n",
    "Use the function `pd.read_csv` to load the `adult.data` into a pandas\n",
    "dataframe called `df`. Make sure that\n",
    "the `adult.data` file is in the same folder as your notebook or python code.\n",
    "Report the number of rows (records) in your data frame.\n",
    "\n",
    "Note that the data file does **not** have an index column. The headers\n",
    "of the file are given to you below. \n",
    "\n",
    "Hint: You will need to read a bit about the pandas documentation \n",
    "to do this problem https://pandas.pydata.org/pandas-docs/stable/reference/api/pandas.read_csv.html"
   ]
  },
  {
   "cell_type": "code",
   "execution_count": 3,
   "metadata": {},
   "outputs": [
    {
     "name": "stdout",
     "output_type": "stream",
     "text": [
      "32561\n"
     ]
    }
   ],
   "source": [
    "header = ['age', 'work', 'fnlwgt', 'edu', 'yredu', 'marriage', 'occupation',\n",
    " 'relationship', 'race', 'sex', 'capgain', 'caploss', 'workhr', 'country','salary']\n",
    "df = pd.read_csv('adult.data',header=None,names=header)\n",
    "number_rows = len(df.index)\n",
    "print(number_rows)"
   ]
  },
  {
   "cell_type": "markdown",
   "metadata": {},
   "source": [
    "### Part (b) Continuous Features [1 pt]\n",
    "\n",
    "For each of the columns [\"age\", \"yredu\", \"capgain\", \"caploss\", \"workhr\"], find the minimum, maximum, and average value across the dataset.\n",
    "\n",
    "Like numpy arrays and torch tensors, \n",
    "pandas data frames can be sliced. For example, we can\n",
    "display the first 5 rows of the data frame (5 records) below:"
   ]
  },
  {
   "cell_type": "code",
   "execution_count": 4,
   "metadata": {
    "scrolled": false
   },
   "outputs": [
    {
     "data": {
      "text/html": [
       "<div>\n",
       "<style scoped>\n",
       "    .dataframe tbody tr th:only-of-type {\n",
       "        vertical-align: middle;\n",
       "    }\n",
       "\n",
       "    .dataframe tbody tr th {\n",
       "        vertical-align: top;\n",
       "    }\n",
       "\n",
       "    .dataframe thead th {\n",
       "        text-align: right;\n",
       "    }\n",
       "</style>\n",
       "<table border=\"1\" class=\"dataframe\">\n",
       "  <thead>\n",
       "    <tr style=\"text-align: right;\">\n",
       "      <th></th>\n",
       "      <th>age</th>\n",
       "      <th>work</th>\n",
       "      <th>fnlwgt</th>\n",
       "      <th>edu</th>\n",
       "      <th>yredu</th>\n",
       "      <th>marriage</th>\n",
       "      <th>occupation</th>\n",
       "      <th>relationship</th>\n",
       "      <th>race</th>\n",
       "      <th>sex</th>\n",
       "      <th>capgain</th>\n",
       "      <th>caploss</th>\n",
       "      <th>workhr</th>\n",
       "      <th>country</th>\n",
       "      <th>salary</th>\n",
       "    </tr>\n",
       "  </thead>\n",
       "  <tbody>\n",
       "    <tr>\n",
       "      <th>0</th>\n",
       "      <td>39</td>\n",
       "      <td>State-gov</td>\n",
       "      <td>77516</td>\n",
       "      <td>Bachelors</td>\n",
       "      <td>13</td>\n",
       "      <td>Never-married</td>\n",
       "      <td>Adm-clerical</td>\n",
       "      <td>Not-in-family</td>\n",
       "      <td>White</td>\n",
       "      <td>Male</td>\n",
       "      <td>2174</td>\n",
       "      <td>0</td>\n",
       "      <td>40</td>\n",
       "      <td>United-States</td>\n",
       "      <td>&lt;=50K</td>\n",
       "    </tr>\n",
       "    <tr>\n",
       "      <th>1</th>\n",
       "      <td>50</td>\n",
       "      <td>Self-emp-not-inc</td>\n",
       "      <td>83311</td>\n",
       "      <td>Bachelors</td>\n",
       "      <td>13</td>\n",
       "      <td>Married-civ-spouse</td>\n",
       "      <td>Exec-managerial</td>\n",
       "      <td>Husband</td>\n",
       "      <td>White</td>\n",
       "      <td>Male</td>\n",
       "      <td>0</td>\n",
       "      <td>0</td>\n",
       "      <td>13</td>\n",
       "      <td>United-States</td>\n",
       "      <td>&lt;=50K</td>\n",
       "    </tr>\n",
       "    <tr>\n",
       "      <th>2</th>\n",
       "      <td>38</td>\n",
       "      <td>Private</td>\n",
       "      <td>215646</td>\n",
       "      <td>HS-grad</td>\n",
       "      <td>9</td>\n",
       "      <td>Divorced</td>\n",
       "      <td>Handlers-cleaners</td>\n",
       "      <td>Not-in-family</td>\n",
       "      <td>White</td>\n",
       "      <td>Male</td>\n",
       "      <td>0</td>\n",
       "      <td>0</td>\n",
       "      <td>40</td>\n",
       "      <td>United-States</td>\n",
       "      <td>&lt;=50K</td>\n",
       "    </tr>\n",
       "  </tbody>\n",
       "</table>\n",
       "</div>"
      ],
      "text/plain": [
       "   age               work  fnlwgt         edu  yredu             marriage  \\\n",
       "0   39          State-gov   77516   Bachelors     13        Never-married   \n",
       "1   50   Self-emp-not-inc   83311   Bachelors     13   Married-civ-spouse   \n",
       "2   38            Private  215646     HS-grad      9             Divorced   \n",
       "\n",
       "           occupation    relationship    race    sex  capgain  caploss  \\\n",
       "0        Adm-clerical   Not-in-family   White   Male     2174        0   \n",
       "1     Exec-managerial         Husband   White   Male        0        0   \n",
       "2   Handlers-cleaners   Not-in-family   White   Male        0        0   \n",
       "\n",
       "   workhr         country  salary  \n",
       "0      40   United-States   <=50K  \n",
       "1      13   United-States   <=50K  \n",
       "2      40   United-States   <=50K  "
      ]
     },
     "execution_count": 4,
     "metadata": {},
     "output_type": "execute_result"
    }
   ],
   "source": [
    "df[:3]"
   ]
  },
  {
   "cell_type": "markdown",
   "metadata": {},
   "source": [
    "Alternatively, we can slice based on column names, \n",
    "for example `df[\"race\"]`, `df[\"hr\"]`, or even index multiple columns \n",
    "like below."
   ]
  },
  {
   "cell_type": "code",
   "execution_count": 5,
   "metadata": {},
   "outputs": [
    {
     "data": {
      "text/plain": [
       "age        17\n",
       "yredu       1\n",
       "capgain     0\n",
       "caploss     0\n",
       "workhr      1\n",
       "dtype: int64"
      ]
     },
     "execution_count": 5,
     "metadata": {},
     "output_type": "execute_result"
    }
   ],
   "source": [
    "newSet = pd.DataFrame(df, columns=['age','yredu','capgain', 'caploss','workhr'])\n",
    "newSet.min()"
   ]
  },
  {
   "cell_type": "code",
   "execution_count": 6,
   "metadata": {},
   "outputs": [
    {
     "data": {
      "text/plain": [
       "age           90\n",
       "yredu         16\n",
       "capgain    99999\n",
       "caploss     4356\n",
       "workhr        99\n",
       "dtype: int64"
      ]
     },
     "execution_count": 6,
     "metadata": {},
     "output_type": "execute_result"
    }
   ],
   "source": [
    "newSet.max()"
   ]
  },
  {
   "cell_type": "code",
   "execution_count": 7,
   "metadata": {},
   "outputs": [
    {
     "data": {
      "text/plain": [
       "age          38.581647\n",
       "yredu        10.080679\n",
       "capgain    1077.648844\n",
       "caploss      87.303830\n",
       "workhr       40.437456\n",
       "dtype: float64"
      ]
     },
     "execution_count": 7,
     "metadata": {},
     "output_type": "execute_result"
    }
   ],
   "source": [
    "newSet.mean()"
   ]
  },
  {
   "cell_type": "code",
   "execution_count": 8,
   "metadata": {},
   "outputs": [
    {
     "data": {
      "text/html": [
       "<div>\n",
       "<style scoped>\n",
       "    .dataframe tbody tr th:only-of-type {\n",
       "        vertical-align: middle;\n",
       "    }\n",
       "\n",
       "    .dataframe tbody tr th {\n",
       "        vertical-align: top;\n",
       "    }\n",
       "\n",
       "    .dataframe thead th {\n",
       "        text-align: right;\n",
       "    }\n",
       "</style>\n",
       "<table border=\"1\" class=\"dataframe\">\n",
       "  <thead>\n",
       "    <tr style=\"text-align: right;\">\n",
       "      <th></th>\n",
       "      <th>age</th>\n",
       "      <th>yredu</th>\n",
       "      <th>capgain</th>\n",
       "      <th>caploss</th>\n",
       "      <th>workhr</th>\n",
       "    </tr>\n",
       "  </thead>\n",
       "  <tbody>\n",
       "    <tr>\n",
       "      <th>0</th>\n",
       "      <td>39</td>\n",
       "      <td>13</td>\n",
       "      <td>2174</td>\n",
       "      <td>0</td>\n",
       "      <td>40</td>\n",
       "    </tr>\n",
       "    <tr>\n",
       "      <th>1</th>\n",
       "      <td>50</td>\n",
       "      <td>13</td>\n",
       "      <td>0</td>\n",
       "      <td>0</td>\n",
       "      <td>13</td>\n",
       "    </tr>\n",
       "    <tr>\n",
       "      <th>2</th>\n",
       "      <td>38</td>\n",
       "      <td>9</td>\n",
       "      <td>0</td>\n",
       "      <td>0</td>\n",
       "      <td>40</td>\n",
       "    </tr>\n",
       "  </tbody>\n",
       "</table>\n",
       "</div>"
      ],
      "text/plain": [
       "   age  yredu  capgain  caploss  workhr\n",
       "0   39     13     2174        0      40\n",
       "1   50     13        0        0      13\n",
       "2   38      9        0        0      40"
      ]
     },
     "execution_count": 8,
     "metadata": {},
     "output_type": "execute_result"
    }
   ],
   "source": [
    "subdf = df[[\"age\", \"yredu\", \"capgain\", \"caploss\", \"workhr\"]]\n",
    "subdf[:3] # show the first 3 records"
   ]
  },
  {
   "cell_type": "markdown",
   "metadata": {},
   "source": [
    "Numpy works nicely with pandas, like below:"
   ]
  },
  {
   "cell_type": "code",
   "execution_count": 9,
   "metadata": {},
   "outputs": [
    {
     "data": {
      "text/plain": [
       "2842700"
      ]
     },
     "execution_count": 9,
     "metadata": {},
     "output_type": "execute_result"
    }
   ],
   "source": [
    "np.sum(subdf[\"caploss\"])"
   ]
  },
  {
   "cell_type": "code",
   "execution_count": null,
   "metadata": {},
   "outputs": [],
   "source": []
  },
  {
   "cell_type": "markdown",
   "metadata": {},
   "source": [
    "### Part (c) Normalizing Continuous Features [1 pt]\n",
    "\n",
    "Normalize each of the features [\"age\", \"yredu\", \"capgain\", \"caploss\", \"workhr\"]\n",
    "so that their values are between 0 and 1. Just like numpy arrays, you can modify\n",
    "data frames. For example, the code \n",
    "\n",
    "`df[\"age\"] = df[\"age\"] + 1` \n",
    "\n",
    "would increase everyone's age by 1."
   ]
  },
  {
   "cell_type": "code",
   "execution_count": 10,
   "metadata": {},
   "outputs": [
    {
     "data": {
      "text/html": [
       "<div>\n",
       "<style scoped>\n",
       "    .dataframe tbody tr th:only-of-type {\n",
       "        vertical-align: middle;\n",
       "    }\n",
       "\n",
       "    .dataframe tbody tr th {\n",
       "        vertical-align: top;\n",
       "    }\n",
       "\n",
       "    .dataframe thead th {\n",
       "        text-align: right;\n",
       "    }\n",
       "</style>\n",
       "<table border=\"1\" class=\"dataframe\">\n",
       "  <thead>\n",
       "    <tr style=\"text-align: right;\">\n",
       "      <th></th>\n",
       "      <th>age</th>\n",
       "      <th>work</th>\n",
       "      <th>fnlwgt</th>\n",
       "      <th>edu</th>\n",
       "      <th>yredu</th>\n",
       "      <th>marriage</th>\n",
       "      <th>occupation</th>\n",
       "      <th>relationship</th>\n",
       "      <th>race</th>\n",
       "      <th>sex</th>\n",
       "      <th>capgain</th>\n",
       "      <th>caploss</th>\n",
       "      <th>workhr</th>\n",
       "      <th>country</th>\n",
       "      <th>salary</th>\n",
       "    </tr>\n",
       "  </thead>\n",
       "  <tbody>\n",
       "    <tr>\n",
       "      <th>0</th>\n",
       "      <td>0.301370</td>\n",
       "      <td>State-gov</td>\n",
       "      <td>77516</td>\n",
       "      <td>Bachelors</td>\n",
       "      <td>0.800000</td>\n",
       "      <td>Never-married</td>\n",
       "      <td>Adm-clerical</td>\n",
       "      <td>Not-in-family</td>\n",
       "      <td>White</td>\n",
       "      <td>Male</td>\n",
       "      <td>0.02174</td>\n",
       "      <td>0.0</td>\n",
       "      <td>0.397959</td>\n",
       "      <td>United-States</td>\n",
       "      <td>&lt;=50K</td>\n",
       "    </tr>\n",
       "    <tr>\n",
       "      <th>1</th>\n",
       "      <td>0.452055</td>\n",
       "      <td>Self-emp-not-inc</td>\n",
       "      <td>83311</td>\n",
       "      <td>Bachelors</td>\n",
       "      <td>0.800000</td>\n",
       "      <td>Married-civ-spouse</td>\n",
       "      <td>Exec-managerial</td>\n",
       "      <td>Husband</td>\n",
       "      <td>White</td>\n",
       "      <td>Male</td>\n",
       "      <td>0.00000</td>\n",
       "      <td>0.0</td>\n",
       "      <td>0.122449</td>\n",
       "      <td>United-States</td>\n",
       "      <td>&lt;=50K</td>\n",
       "    </tr>\n",
       "    <tr>\n",
       "      <th>2</th>\n",
       "      <td>0.287671</td>\n",
       "      <td>Private</td>\n",
       "      <td>215646</td>\n",
       "      <td>HS-grad</td>\n",
       "      <td>0.533333</td>\n",
       "      <td>Divorced</td>\n",
       "      <td>Handlers-cleaners</td>\n",
       "      <td>Not-in-family</td>\n",
       "      <td>White</td>\n",
       "      <td>Male</td>\n",
       "      <td>0.00000</td>\n",
       "      <td>0.0</td>\n",
       "      <td>0.397959</td>\n",
       "      <td>United-States</td>\n",
       "      <td>&lt;=50K</td>\n",
       "    </tr>\n",
       "  </tbody>\n",
       "</table>\n",
       "</div>"
      ],
      "text/plain": [
       "        age               work  fnlwgt         edu     yredu  \\\n",
       "0  0.301370          State-gov   77516   Bachelors  0.800000   \n",
       "1  0.452055   Self-emp-not-inc   83311   Bachelors  0.800000   \n",
       "2  0.287671            Private  215646     HS-grad  0.533333   \n",
       "\n",
       "              marriage          occupation    relationship    race    sex  \\\n",
       "0        Never-married        Adm-clerical   Not-in-family   White   Male   \n",
       "1   Married-civ-spouse     Exec-managerial         Husband   White   Male   \n",
       "2             Divorced   Handlers-cleaners   Not-in-family   White   Male   \n",
       "\n",
       "   capgain  caploss    workhr         country  salary  \n",
       "0  0.02174      0.0  0.397959   United-States   <=50K  \n",
       "1  0.00000      0.0  0.122449   United-States   <=50K  \n",
       "2  0.00000      0.0  0.397959   United-States   <=50K  "
      ]
     },
     "execution_count": 10,
     "metadata": {},
     "output_type": "execute_result"
    }
   ],
   "source": [
    "df[\"age\"] = (df[\"age\"]-df[\"age\"].min())/(df[\"age\"].max()-df[\"age\"].min())\n",
    "df[\"yredu\"] = (df[\"yredu\"]-df[\"yredu\"].min())/(df[\"yredu\"].max()-df[\"yredu\"].min())\n",
    "df[\"capgain\"] = (df[\"capgain\"]-df[\"capgain\"].min())/(df[\"capgain\"].max()-df[\"capgain\"].min())\n",
    "df[\"caploss\"] = (df[\"caploss\"]-df[\"caploss\"].min())/(df[\"caploss\"].max()-df[\"caploss\"].min())\n",
    "df[\"workhr\"] = (df[\"workhr\"]-df[\"workhr\"].min())/(df[\"workhr\"].max()-df[\"workhr\"].min())\n",
    "df[:3]"
   ]
  },
  {
   "cell_type": "markdown",
   "metadata": {},
   "source": [
    "### Part (d) Categorical Features [1 pt]\n",
    "\n",
    "What percentage of people in our data set is male? Note that the data labels all have an unfortunate space in the beginning, e.g. \" Male\" instead of \"Male\".\n",
    "\n",
    "What percentage of people in our data set is female?"
   ]
  },
  {
   "cell_type": "code",
   "execution_count": 11,
   "metadata": {},
   "outputs": [
    {
     "data": {
      "text/plain": [
       "0.6692054912318418"
      ]
     },
     "execution_count": 11,
     "metadata": {},
     "output_type": "execute_result"
    }
   ],
   "source": [
    "# hint: you can do something like this in pandas\n",
    "MalePercent = sum(df[\"sex\"] == \" Male\")/(len(df.index))\n",
    "MalePercent"
   ]
  },
  {
   "cell_type": "markdown",
   "metadata": {},
   "source": [
    "### Part (e) Missing Values [1 pt]\n",
    "\n",
    "We will do two things in this part:\n",
    "\n",
    "1. We will restrict ourselves to a subset of the features\n",
    "2. We will remove any records (rows) containing missing values, and store it in a second dataframe.\n",
    "\n",
    "Both of these steps are done for you.\n",
    "\n",
    "Report the number of records with and without missing features of interest."
   ]
  },
  {
   "cell_type": "code",
   "execution_count": 12,
   "metadata": {},
   "outputs": [],
   "source": [
    "contcols = [\"age\", \"yredu\", \"capgain\", \"caploss\", \"workhr\"]\n",
    "catcols = [\"work\", \"marriage\", \"occupation\", \"edu\", \"relationship\", \"sex\"]\n",
    "features = contcols + catcols\n",
    "df = df[features]"
   ]
  },
  {
   "cell_type": "code",
   "execution_count": 13,
   "metadata": {},
   "outputs": [],
   "source": [
    "missing = pd.concat([df[c] == \" ?\" for c in catcols], axis=1).any(axis=1)\n",
    "df_with_missing = df[missing]\n",
    "df_not_missing = df[~missing]"
   ]
  },
  {
   "cell_type": "code",
   "execution_count": 14,
   "metadata": {},
   "outputs": [
    {
     "data": {
      "text/plain": [
       "1843"
      ]
     },
     "execution_count": 14,
     "metadata": {},
     "output_type": "execute_result"
    }
   ],
   "source": [
    "len(df_with_missing.index)"
   ]
  },
  {
   "cell_type": "code",
   "execution_count": 15,
   "metadata": {},
   "outputs": [
    {
     "data": {
      "text/plain": [
       "30718"
      ]
     },
     "execution_count": 15,
     "metadata": {},
     "output_type": "execute_result"
    }
   ],
   "source": [
    "len(df_not_missing.index)"
   ]
  },
  {
   "cell_type": "markdown",
   "metadata": {},
   "source": [
    "### Part (f) One-Hot Encoding [1 pt]\n",
    "\n",
    "What are all the possible values of \"work\" in `df_not_missing`? You may find the Python function `set` useful."
   ]
  },
  {
   "cell_type": "code",
   "execution_count": 16,
   "metadata": {},
   "outputs": [
    {
     "data": {
      "text/plain": [
       "{' Federal-gov',\n",
       " ' Local-gov',\n",
       " ' Private',\n",
       " ' Self-emp-inc',\n",
       " ' Self-emp-not-inc',\n",
       " ' State-gov',\n",
       " ' Without-pay'}"
      ]
     },
     "execution_count": 16,
     "metadata": {},
     "output_type": "execute_result"
    }
   ],
   "source": [
    "not_missing_set = set(df_not_missing[\"work\"])\n",
    "not_missing_set"
   ]
  },
  {
   "cell_type": "markdown",
   "metadata": {},
   "source": [
    "As discussed in class and in tutorial, we will be using a one-hot encoding \n",
    "to encode each of the categorical variables.\n",
    "\n",
    "We will use the pandas function `get_dummies`:"
   ]
  },
  {
   "cell_type": "code",
   "execution_count": 17,
   "metadata": {},
   "outputs": [],
   "source": [
    "data = pd.get_dummies(df_not_missing)"
   ]
  },
  {
   "cell_type": "code",
   "execution_count": 18,
   "metadata": {
    "scrolled": true
   },
   "outputs": [
    {
     "data": {
      "text/html": [
       "<div>\n",
       "<style scoped>\n",
       "    .dataframe tbody tr th:only-of-type {\n",
       "        vertical-align: middle;\n",
       "    }\n",
       "\n",
       "    .dataframe tbody tr th {\n",
       "        vertical-align: top;\n",
       "    }\n",
       "\n",
       "    .dataframe thead th {\n",
       "        text-align: right;\n",
       "    }\n",
       "</style>\n",
       "<table border=\"1\" class=\"dataframe\">\n",
       "  <thead>\n",
       "    <tr style=\"text-align: right;\">\n",
       "      <th></th>\n",
       "      <th>age</th>\n",
       "      <th>yredu</th>\n",
       "      <th>capgain</th>\n",
       "      <th>caploss</th>\n",
       "      <th>workhr</th>\n",
       "      <th>work_ Federal-gov</th>\n",
       "      <th>work_ Local-gov</th>\n",
       "      <th>work_ Private</th>\n",
       "      <th>work_ Self-emp-inc</th>\n",
       "      <th>work_ Self-emp-not-inc</th>\n",
       "      <th>...</th>\n",
       "      <th>edu_ Prof-school</th>\n",
       "      <th>edu_ Some-college</th>\n",
       "      <th>relationship_ Husband</th>\n",
       "      <th>relationship_ Not-in-family</th>\n",
       "      <th>relationship_ Other-relative</th>\n",
       "      <th>relationship_ Own-child</th>\n",
       "      <th>relationship_ Unmarried</th>\n",
       "      <th>relationship_ Wife</th>\n",
       "      <th>sex_ Female</th>\n",
       "      <th>sex_ Male</th>\n",
       "    </tr>\n",
       "  </thead>\n",
       "  <tbody>\n",
       "    <tr>\n",
       "      <th>0</th>\n",
       "      <td>0.301370</td>\n",
       "      <td>0.800000</td>\n",
       "      <td>0.02174</td>\n",
       "      <td>0.0</td>\n",
       "      <td>0.397959</td>\n",
       "      <td>0</td>\n",
       "      <td>0</td>\n",
       "      <td>0</td>\n",
       "      <td>0</td>\n",
       "      <td>0</td>\n",
       "      <td>...</td>\n",
       "      <td>0</td>\n",
       "      <td>0</td>\n",
       "      <td>0</td>\n",
       "      <td>1</td>\n",
       "      <td>0</td>\n",
       "      <td>0</td>\n",
       "      <td>0</td>\n",
       "      <td>0</td>\n",
       "      <td>0</td>\n",
       "      <td>1</td>\n",
       "    </tr>\n",
       "    <tr>\n",
       "      <th>1</th>\n",
       "      <td>0.452055</td>\n",
       "      <td>0.800000</td>\n",
       "      <td>0.00000</td>\n",
       "      <td>0.0</td>\n",
       "      <td>0.122449</td>\n",
       "      <td>0</td>\n",
       "      <td>0</td>\n",
       "      <td>0</td>\n",
       "      <td>0</td>\n",
       "      <td>1</td>\n",
       "      <td>...</td>\n",
       "      <td>0</td>\n",
       "      <td>0</td>\n",
       "      <td>1</td>\n",
       "      <td>0</td>\n",
       "      <td>0</td>\n",
       "      <td>0</td>\n",
       "      <td>0</td>\n",
       "      <td>0</td>\n",
       "      <td>0</td>\n",
       "      <td>1</td>\n",
       "    </tr>\n",
       "    <tr>\n",
       "      <th>2</th>\n",
       "      <td>0.287671</td>\n",
       "      <td>0.533333</td>\n",
       "      <td>0.00000</td>\n",
       "      <td>0.0</td>\n",
       "      <td>0.397959</td>\n",
       "      <td>0</td>\n",
       "      <td>0</td>\n",
       "      <td>1</td>\n",
       "      <td>0</td>\n",
       "      <td>0</td>\n",
       "      <td>...</td>\n",
       "      <td>0</td>\n",
       "      <td>0</td>\n",
       "      <td>0</td>\n",
       "      <td>1</td>\n",
       "      <td>0</td>\n",
       "      <td>0</td>\n",
       "      <td>0</td>\n",
       "      <td>0</td>\n",
       "      <td>0</td>\n",
       "      <td>1</td>\n",
       "    </tr>\n",
       "    <tr>\n",
       "      <th>3</th>\n",
       "      <td>0.493151</td>\n",
       "      <td>0.400000</td>\n",
       "      <td>0.00000</td>\n",
       "      <td>0.0</td>\n",
       "      <td>0.397959</td>\n",
       "      <td>0</td>\n",
       "      <td>0</td>\n",
       "      <td>1</td>\n",
       "      <td>0</td>\n",
       "      <td>0</td>\n",
       "      <td>...</td>\n",
       "      <td>0</td>\n",
       "      <td>0</td>\n",
       "      <td>1</td>\n",
       "      <td>0</td>\n",
       "      <td>0</td>\n",
       "      <td>0</td>\n",
       "      <td>0</td>\n",
       "      <td>0</td>\n",
       "      <td>0</td>\n",
       "      <td>1</td>\n",
       "    </tr>\n",
       "    <tr>\n",
       "      <th>4</th>\n",
       "      <td>0.150685</td>\n",
       "      <td>0.800000</td>\n",
       "      <td>0.00000</td>\n",
       "      <td>0.0</td>\n",
       "      <td>0.397959</td>\n",
       "      <td>0</td>\n",
       "      <td>0</td>\n",
       "      <td>1</td>\n",
       "      <td>0</td>\n",
       "      <td>0</td>\n",
       "      <td>...</td>\n",
       "      <td>0</td>\n",
       "      <td>0</td>\n",
       "      <td>0</td>\n",
       "      <td>0</td>\n",
       "      <td>0</td>\n",
       "      <td>0</td>\n",
       "      <td>0</td>\n",
       "      <td>1</td>\n",
       "      <td>1</td>\n",
       "      <td>0</td>\n",
       "    </tr>\n",
       "  </tbody>\n",
       "</table>\n",
       "<p>5 rows × 57 columns</p>\n",
       "</div>"
      ],
      "text/plain": [
       "        age     yredu  capgain  caploss    workhr  work_ Federal-gov  \\\n",
       "0  0.301370  0.800000  0.02174      0.0  0.397959                  0   \n",
       "1  0.452055  0.800000  0.00000      0.0  0.122449                  0   \n",
       "2  0.287671  0.533333  0.00000      0.0  0.397959                  0   \n",
       "3  0.493151  0.400000  0.00000      0.0  0.397959                  0   \n",
       "4  0.150685  0.800000  0.00000      0.0  0.397959                  0   \n",
       "\n",
       "   work_ Local-gov  work_ Private  work_ Self-emp-inc  work_ Self-emp-not-inc  \\\n",
       "0                0              0                   0                       0   \n",
       "1                0              0                   0                       1   \n",
       "2                0              1                   0                       0   \n",
       "3                0              1                   0                       0   \n",
       "4                0              1                   0                       0   \n",
       "\n",
       "     ...      edu_ Prof-school  edu_ Some-college  relationship_ Husband  \\\n",
       "0    ...                     0                  0                      0   \n",
       "1    ...                     0                  0                      1   \n",
       "2    ...                     0                  0                      0   \n",
       "3    ...                     0                  0                      1   \n",
       "4    ...                     0                  0                      0   \n",
       "\n",
       "   relationship_ Not-in-family  relationship_ Other-relative  \\\n",
       "0                            1                             0   \n",
       "1                            0                             0   \n",
       "2                            1                             0   \n",
       "3                            0                             0   \n",
       "4                            0                             0   \n",
       "\n",
       "   relationship_ Own-child  relationship_ Unmarried  relationship_ Wife  \\\n",
       "0                        0                        0                   0   \n",
       "1                        0                        0                   0   \n",
       "2                        0                        0                   0   \n",
       "3                        0                        0                   0   \n",
       "4                        0                        0                   1   \n",
       "\n",
       "   sex_ Female  sex_ Male  \n",
       "0            0          1  \n",
       "1            0          1  \n",
       "2            0          1  \n",
       "3            0          1  \n",
       "4            1          0  \n",
       "\n",
       "[5 rows x 57 columns]"
      ]
     },
     "execution_count": 18,
     "metadata": {},
     "output_type": "execute_result"
    }
   ],
   "source": [
    "data[:5]"
   ]
  },
  {
   "cell_type": "markdown",
   "metadata": {},
   "source": [
    "### Part (g) One-Hot Encoding [1 pt]\n",
    "\n",
    "How many columns are in the dataframe `data`?\n",
    "\n",
    "Briefly explain where that number come from. (You don't need to be detailed here.)"
   ]
  },
  {
   "cell_type": "markdown",
   "metadata": {},
   "source": [
    "    57 columns are in the dataframe. These data frame are all the possible values for each of the columns in dataframe."
   ]
  },
  {
   "cell_type": "markdown",
   "metadata": {},
   "source": [
    "### Part (h) One-Hot Conversion [3 pt]\n",
    "\n",
    "We will convert the pandas data frame into numpy below.\n",
    "However, in doing so, we lose the column information that\n",
    "a panda data frame automatically stores.\n",
    "\n",
    "Complete the function `get_categorical_value` that will return\n",
    "the named value of a feature given a one-hot embedding.\n",
    "You may find the global variables `cat_index` and `cat_values`\n",
    "useful. (Display them and figure out what they are first.)\n",
    "\n",
    "We will use this function on the output of our autoencoder,\n",
    "to interpret our autoencoder outputs. So the input \n",
    "one-hot vectors might not actually be \"one-hot\".\n"
   ]
  },
  {
   "cell_type": "code",
   "execution_count": 19,
   "metadata": {},
   "outputs": [],
   "source": [
    "datanp = data.values.astype(np.float32)"
   ]
  },
  {
   "cell_type": "code",
   "execution_count": 20,
   "metadata": {},
   "outputs": [],
   "source": [
    "cat_index = {}  # Mapping of feature -> start index of feature in a record\n",
    "cat_values = {} # Mapping of feature -> list of categorical values the feature can take\n",
    "\n",
    "# build up the cat_index and cat_values dictionary\n",
    "for i, header in enumerate(data.keys()):\n",
    "    if \"_\" in header: # categorical header\n",
    "        feature, value = header.split()\n",
    "        feature = feature[:-1] # remove the last char; it is always an underscore\n",
    "        if feature not in cat_index:\n",
    "            cat_index[feature] = i\n",
    "            cat_values[feature] = [value]\n",
    "        else:\n",
    "            cat_values[feature].append(value)\n",
    "\n",
    "def get_onehot(record, feature):\n",
    "    \"\"\"\n",
    "    Return the portion of `record` that is the one-hot encoding\n",
    "    of feature. For example, since the feature \"work\" is stored\n",
    "    in the indices [5:12] in each record, calling `get_range(record, \"work\")`\n",
    "    is equivalent to accessing `record[5:12]`.\n",
    "    \n",
    "    Args:\n",
    "        - record: a numpy array representing one record, formatted\n",
    "                  the same way as a row in `data.np`\n",
    "        - feature: a string, should be an element of `catcols`\n",
    "    \"\"\"\n",
    "    start_index = cat_index[feature]\n",
    "    stop_index = cat_index[feature] + len(cat_values[feature])\n",
    "    return record[start_index:stop_index]\n",
    "\n",
    "def get_categorical_value(onehot, feature):\n",
    "    \"\"\"\n",
    "    Return the categorical value name of a feature given\n",
    "    a one-hot vector representing the feature.\n",
    "    \n",
    "    Args:\n",
    "        - onehot: a numpy array one-hot representation of the feature\n",
    "        - feature: a string, should be an element of `catcols`\n",
    "        \n",
    "    Examples:\n",
    "    \n",
    "    >>> get_categorical_value(np.array([0., 0., 0., 0., 0., 1., 0.]), \"work\")\n",
    "    'State-gov'\n",
    "    >>> get_categorical_value(np.array([0.1, 0., 1.1, 0.2, 0., 1., 0.]), \"work\")\n",
    "    'Private'\n",
    "    \"\"\"\n",
    "    # TODO\n",
    "    max_index = np.argmax(onehot)\n",
    "    \n",
    "    new_list = cat_values[feature]\n",
    "    return new_list[max_index]\n",
    "\n",
    "def get_feature(record, feature):\n",
    "    \"\"\"\n",
    "    Return the categorical feature value of a record\n",
    "    \"\"\"\n",
    "    onehot = get_onehot(record, feature)\n",
    "    return get_categorical_value(onehot, feature)\n",
    "\n",
    "def get_features(record):\n",
    "    \"\"\"\n",
    "    Return a dictionary of all categorical feature values of a record\n",
    "    \"\"\"\n",
    "    return { f: get_feature(record, f) for f in catcols }"
   ]
  },
  {
   "cell_type": "code",
   "execution_count": 21,
   "metadata": {},
   "outputs": [
    {
     "data": {
      "text/plain": [
       "'State-gov'"
      ]
     },
     "execution_count": 21,
     "metadata": {},
     "output_type": "execute_result"
    }
   ],
   "source": [
    "get_categorical_value(np.array([0., 0., 0., 0., 0., 1., 0.]), \"work\")"
   ]
  },
  {
   "cell_type": "markdown",
   "metadata": {},
   "source": [
    "### Part (i) Train/Test Split [2 pt]\n",
    "\n",
    "Randomly split the data into approximately 70% training, 15% validation and 15% test.\n",
    "\n",
    "Report the number of items in your training, validation, and test set."
   ]
  },
  {
   "cell_type": "code",
   "execution_count": 22,
   "metadata": {},
   "outputs": [],
   "source": [
    "np.random.seed(50) # set the numpy seed for consistent split\n",
    "\n",
    "# todo\n",
    "np.random.seed(50) # set the numpy seed for consistent split\n",
    "np.random.shuffle(datanp)\n",
    "train_index = int(len(datanp)*0.7)\n",
    "vali_index =  int(len(datanp)*0.85)\n",
    "\n",
    "train_data = datanp[:train_index]\n",
    "valid_data = datanp[train_index:vali_index]\n",
    "test_data = datanp[vali_index:]\n",
    "# todo"
   ]
  },
  {
   "cell_type": "markdown",
   "metadata": {},
   "source": [
    "## Part 2. Model Setup [4 pt]\n",
    "\n",
    "Design a fully-connected autoencoder by modifying the `encoder` and `decoder`. \n",
    "\n",
    "There will be a sigmoid activation at the decoder, so that\n",
    "the output of the decoder is between 0 and 1. We will not interpret \n",
    "the output of the sigmoid as a probability."
   ]
  },
  {
   "cell_type": "code",
   "execution_count": 23,
   "metadata": {},
   "outputs": [],
   "source": [
    "from torch import nn\n",
    "\n",
    "class AutoEncoder(nn.Module):\n",
    "    def __init__(self):\n",
    "        super(AutoEncoder, self).__init__()\n",
    "        self.name=\"AutoEncode\"\n",
    "        self.encoder = nn.Sequential(\n",
    "            nn.Linear(57, 43), # TODO\n",
    "            nn.Linear(43,28)\n",
    "        )\n",
    "        self.decoder = nn.Sequential(\n",
    "            nn.Linear(28,43),\n",
    "            nn.Linear(43, 57), # TODO\n",
    "            nn.Sigmoid() # get to the range (0, 1)\n",
    "        )\n",
    "\n",
    "    def forward(self, x):\n",
    "        x = self.encoder(x)\n",
    "        x = self.decoder(x)\n",
    "        return x"
   ]
  },
  {
   "cell_type": "markdown",
   "metadata": {},
   "source": [
    "## Part 3. Training [18] \n",
    "\n",
    "### Part (a) [6 pt]\n",
    "\n",
    "We will train our autoencoder as follows:\n",
    "\n",
    "- In each iteration, we will hide one of the categorical features using the `zero_out_random_features` function\n",
    "- We will pass the data with one missing feature through the autoencoder, obtaining a reconstruction\n",
    "- We will check how close the reconstruction is compared to the original data (without the missing feature)\n",
    "\n",
    "Complete the code to train the autoencoder, and plot the training and validation loss every few iterations.\n",
    "You may also want to plot training and validation \"accuracy\" every few iterations, as we will define in\n",
    "part (b). You may also want to checkpoint your model every few epochs.\n",
    "\n",
    "Use `nn.MSELoss()` as your loss function. (Side note: you might recognize that this loss function is not\n",
    "ideal for this problem, but we will use it anyways.)"
   ]
  },
  {
   "cell_type": "code",
   "execution_count": 24,
   "metadata": {},
   "outputs": [],
   "source": [
    "from a4code import get_model_name,plot_training_curve\n",
    "import time\n",
    "\n",
    "\n",
    "\n",
    "def evaluate(net, loader, criterion):\n",
    "    \"\"\" Evaluate the network on the validation set.\n",
    "\n",
    "     Args:\n",
    "         net: PyTorch neural network object\n",
    "         loader: PyTorch data loader for the validation set\n",
    "         criterion: The loss function\n",
    "     Returns:\n",
    "         err: A scalar for the avg classification error over the validation set\n",
    "         loss: A scalar for the average loss function over the validation set\n",
    "     \"\"\"\n",
    "    total_loss = 0.0\n",
    "    #optimizer = torch.optim.Adam(net.parameters(), lr=learning_rate)\n",
    "\n",
    "    for data in loader:\n",
    "        datam = zero_out_random_feature(data.clone()) # zero out one categorical feature\n",
    "        recon = net(datam)\n",
    "        loss = criterion(recon, data)\n",
    "        loss.backward()\n",
    "       \n",
    "            \n",
    "        total_loss+=loss.item()\n",
    "    loss = float(total_loss) / (i + 1)\n",
    "\n",
    "    return loss\n",
    "\n",
    "def zero_out_feature(records, feature):\n",
    "    \"\"\" Set the feature missing in records, by setting the appropriate\n",
    "    columns of records to 0\n",
    "    \"\"\"\n",
    "    start_index = cat_index[feature]\n",
    "    stop_index = cat_index[feature] + len(cat_values[feature])\n",
    "    records[:, start_index:stop_index] = 0\n",
    "    return records\n",
    "\n",
    "def zero_out_random_feature(records):\n",
    "    \"\"\" Set one random feature missing in records, by setting the \n",
    "    appropriate columns of records to 0\n",
    "    \"\"\"\n",
    "    return zero_out_feature(records, random.choice(catcols))\n",
    "\n",
    "def get_data_loader(batch_size):\n",
    "    train_loader =  torch.utils.data.DataLoader(train_data,\n",
    "                                              batch_size=batch_size,\n",
    "                                              shuffle=True,\n",
    "                                              num_workers=1)\n",
    "    test_loader = torch.utils.data.DataLoader(test_data,\n",
    "                                              batch_size=batch_size,\n",
    "                                              shuffle=True,\n",
    "                                              num_workers=1)\n",
    "    val_loader = torch.utils.data.DataLoader(valid_data,\n",
    "                                              batch_size=batch_size,\n",
    "                                              shuffle=True,\n",
    "                                              num_workers=1)\n",
    "    return train_loader,test_loader,val_loader\n",
    "\n",
    "def train(model, train_loader, valid_loader,batch_size=64,num_epochs=5, learning_rate=1e-4):\n",
    "    \"\"\" Training loop. You should update this.\"\"\"\n",
    "    \n",
    "    torch.manual_seed(42)\n",
    "    criterion = nn.MSELoss()\n",
    "    optimizer = torch.optim.Adam(model.parameters(), lr=learning_rate)\n",
    "    \n",
    "    train_acc = np.zeros(num_epochs)\n",
    "    train_loss = np.zeros(num_epochs)\n",
    "    val_acc = np.zeros(num_epochs)\n",
    "    val_loss = np.zeros(num_epochs)\n",
    "    start_time = time.time()\n",
    "    \n",
    "    for epoch in range(num_epochs):\n",
    "        total_train_error =0.0\n",
    "        total_train_loss = 0.0\n",
    "        i = 0\n",
    "        for data in train_loader:\n",
    "            datam = zero_out_random_feature(data.clone()) # zero out one categorical feature\n",
    "            recon = model(datam)\n",
    "            loss = criterion(recon, data)\n",
    "            loss.backward()\n",
    "            optimizer.step()\n",
    "            optimizer.zero_grad()\n",
    "            \n",
    "            \n",
    "            total_train_loss+=loss.item()\n",
    "            i+=1\n",
    "        \n",
    "        train_acc[epoch]=get_accuracy(model, train_loader)\n",
    "        train_loss[epoch] = float(total_train_loss) / (i+1)\n",
    "        val_acc[epoch]=get_accuracy(model, valid_loader)\n",
    "        val_loss[epoch]=evaluate(model, valid_loader,criterion)\n",
    "        \n",
    "        \n",
    "        print((\"Epoch {}: Train acc: {}, Train loss: {} |\"+\n",
    "               \"Validation acc: {}, Validation loss: {}\").format(\n",
    "                   epoch + 1,\n",
    "                   train_acc[epoch],\n",
    "                   train_loss[epoch],\n",
    "                   val_acc[epoch],\n",
    "                   val_loss[epoch]))\n",
    "        model_path = get_model_name(model.name, batch_size, learning_rate, num_epochs)\n",
    "        torch.save(model.state_dict(), model_path)\n",
    "    \n",
    "    print('Finished Training')\n",
    "    end_time = time.time()\n",
    "    elapsed_time = end_time - start_time\n",
    "    print(\"Total time elapsed: {:.2f} seconds\".format(elapsed_time))\n",
    "\n",
    "    # Write the train/test loss/err into CSV file for plotting later\n",
    "    epochs = np.arange(1, num_epochs + 1)\n",
    "\n",
    "    np.savetxt(\"{}_train_acc.csv\".format(model_path), train_acc)\n",
    "    np.savetxt(\"{}_train_loss.csv\".format(model_path), train_loss)\n",
    "    np.savetxt(\"{}_val_acc.csv\".format(model_path), val_acc)\n",
    "    np.savetxt(\"{}_val_loss.csv\".format(model_path), val_loss)\n",
    "        \n",
    "\n",
    "       \n",
    "        \n",
    "        "
   ]
  },
  {
   "cell_type": "markdown",
   "metadata": {},
   "source": [
    "### Part (b) [3 pt]\n",
    "\n",
    "While plotting training and validation loss is valuable, loss values are less easy to compare\n",
    "than accuracy percentages. The reason is that the scale of the loss value changes depending\n",
    "on your batch size. It would be nice to have a measure of \"accuracy\" in this problem.\n",
    "\n",
    "Since we will only be imputing missing categorical values, we will define an accuracy measure.\n",
    "For each record and for each categorical feature, we determine whether\n",
    "the model can predict the categorical feature given all the other features of the record.\n",
    "\n",
    "A function `get_accuracy` is written for you. It is up to you to figure out how to\n",
    "use the function. You don't need to do anything else in this part. To earn the 4 marks,\n",
    "plot the training and validation accuracy every few iterations/epochs as part of your\n",
    "training curve."
   ]
  },
  {
   "cell_type": "code",
   "execution_count": 25,
   "metadata": {},
   "outputs": [],
   "source": [
    "def get_accuracy(model, data_loader):\n",
    "    \"\"\"Return the \"accuracy\" of the autoencoder model across a data set\n",
    "    \n",
    "    Args:\n",
    "       - model: the autoencoder model, an instance of nn.Module\n",
    "       - data_loader: an instance of torch.utils.data.DataLoader\n",
    "\n",
    "    Example (to illustrate how get_accuracy is intended to be called.\n",
    "             depending on your variable naming this code might not work\n",
    "             out of the box)\n",
    "\n",
    "        >>> model = AutoEncoder()\n",
    "        >>> vdl = torch.utils.data.DataLoader(data_valid, batch_size=256, shuffle=True)\n",
    "        >>> get_accuracy(model, vdl)\n",
    "    \"\"\"\n",
    "    total = 0\n",
    "    acc = 0\n",
    "    for col in catcols:\n",
    "        for item in data_loader: # minibatches\n",
    "            inp = item.detach().numpy()\n",
    "            out = model(zero_out_feature(item.clone(), col)).detach().numpy()\n",
    "            for i in range(out.shape[0]): # record in minibatch\n",
    "                acc += int(get_feature(out[i], col) == get_feature(inp[i], col))\n",
    "                total += 1\n",
    "    return acc / total"
   ]
  },
  {
   "cell_type": "markdown",
   "metadata": {},
   "source": [
    "### Part (c) [4 pt]\n",
    "\n",
    "Run the training code, using reasonable settings like batch_size, learning rate, etc.\n",
    "\n",
    "Include your training curve in your pdf output."
   ]
  },
  {
   "cell_type": "code",
   "execution_count": 26,
   "metadata": {},
   "outputs": [],
   "source": [
    "train_loader, test_loader, vali_loader = get_data_loader(batch_size=64)"
   ]
  },
  {
   "cell_type": "code",
   "execution_count": 27,
   "metadata": {},
   "outputs": [
    {
     "name": "stdout",
     "output_type": "stream",
     "text": [
      "Epoch 1: Train acc: 0.44382693082814, Train loss: 0.1586811936706393 |Validation acc: 0.4424913194444444, Validation loss: 0.09604908382160622\n",
      "Epoch 2: Train acc: 0.4663209623910954, Train loss: 0.07162785585361701 |Validation acc: 0.46556712962962965, Validation loss: 0.08890925347805023\n",
      "Epoch 3: Train acc: 0.47211112144606704, Train loss: 0.06904286065467741 |Validation acc: 0.4718967013888889, Validation loss: 0.08634169804945327\n",
      "Epoch 4: Train acc: 0.4819009084426255, Train loss: 0.0665548256534851 |Validation acc: 0.4793836805555556, Validation loss: 0.08217371398942512\n",
      "Epoch 5: Train acc: 0.5227188168542461, Train loss: 0.06269235457970763 |Validation acc: 0.5220269097222222, Validation loss: 0.07713727999413222\n",
      "Epoch 6: Train acc: 0.5246798747403343, Train loss: 0.05896366992274449 |Validation acc: 0.5235460069444444, Validation loss: 0.07277526294714526\n",
      "Epoch 7: Train acc: 0.5264471522028958, Train loss: 0.056294260651580656 |Validation acc: 0.5248119212962963, Validation loss: 0.07037995624960515\n",
      "Epoch 8: Train acc: 0.5376941679843735, Train loss: 0.05492157900280344 |Validation acc: 0.5359157986111112, Validation loss: 0.06874955791914672\n",
      "Epoch 9: Train acc: 0.5475382134995195, Train loss: 0.05371020318669452 |Validation acc: 0.5471281828703703, Validation loss: 0.06746034964657667\n",
      "Epoch 10: Train acc: 0.5548088549902335, Train loss: 0.05247010668678878 |Validation acc: 0.5537109375, Validation loss: 0.06577110114066224\n",
      "Epoch 11: Train acc: 0.5605292530927356, Train loss: 0.05090506717518458 |Validation acc: 0.5582320601851852, Validation loss: 0.0633942812942622\n",
      "Epoch 12: Train acc: 0.5696524354323629, Train loss: 0.04903551400017314 |Validation acc: 0.5665509259259259, Validation loss: 0.061273464312156044\n",
      "Epoch 13: Train acc: 0.5765587697268472, Train loss: 0.04721092821847791 |Validation acc: 0.5741102430555556, Validation loss: 0.05861968775851685\n",
      "Epoch 14: Train acc: 0.5801630856044399, Train loss: 0.04525127181180861 |Validation acc: 0.5787398726851852, Validation loss: 0.056220631981105135\n",
      "Epoch 15: Train acc: 0.5828605090999287, Train loss: 0.04323349003224061 |Validation acc: 0.5800057870370371, Validation loss: 0.05398133547421087\n",
      "Epoch 16: Train acc: 0.5799538027470312, Train loss: 0.04144077984621688 |Validation acc: 0.5770399305555556, Validation loss: 0.05172309076838326\n",
      "Epoch 17: Train acc: 0.5830697919573373, Train loss: 0.03999322611915959 |Validation acc: 0.5811993634259259, Validation loss: 0.050319663788142954\n",
      "Epoch 18: Train acc: 0.5868368833906923, Train loss: 0.038756609648377675 |Validation acc: 0.5847077546296297, Validation loss: 0.04867616250065335\n",
      "Epoch 19: Train acc: 0.5934564226583574, Train loss: 0.037605262795347136 |Validation acc: 0.5908926504629629, Validation loss: 0.04774972247449975\n",
      "Epoch 20: Train acc: 0.59757231885406, Train loss: 0.03670263894521341 |Validation acc: 0.5938223379629629, Validation loss: 0.045528974220679516\n",
      "Epoch 21: Train acc: 0.6013394102874151, Train loss: 0.03553053460882573 |Validation acc: 0.5983072916666666, Validation loss: 0.044559428991194354\n",
      "Epoch 22: Train acc: 0.602626112299631, Train loss: 0.034307906249377774 |Validation acc: 0.5985604745370371, Validation loss: 0.04313541955330916\n",
      "Epoch 23: Train acc: 0.6052382724087682, Train loss: 0.033184965873463215 |Validation acc: 0.6001519097222222, Validation loss: 0.04237957416396392\n",
      "Epoch 24: Train acc: 0.6063544476482807, Train loss: 0.03236540544568078 |Validation acc: 0.6017071759259259, Validation loss: 0.040600352414083066\n",
      "Epoch 25: Train acc: 0.6093076613028245, Train loss: 0.031212077307506556 |Validation acc: 0.6036964699074074, Validation loss: 0.03936303962479558\n",
      "Epoch 26: Train acc: 0.6106176169658636, Train loss: 0.03049132374366773 |Validation acc: 0.6047815393518519, Validation loss: 0.038483808862797\n",
      "Epoch 27: Train acc: 0.6130437478684153, Train loss: 0.029500524759381037 |Validation acc: 0.6062282986111112, Validation loss: 0.037719163096003365\n",
      "Epoch 28: Train acc: 0.6164387808885995, Train loss: 0.02879055006877251 |Validation acc: 0.6080729166666666, Validation loss: 0.03656677460592044\n",
      "Epoch 29: Train acc: 0.6131057576039438, Train loss: 0.02786637638151115 |Validation acc: 0.6046730324074074, Validation loss: 0.0354342415209925\n",
      "Epoch 30: Train acc: 0.6170666294608254, Train loss: 0.027085071490408757 |Validation acc: 0.6083260995370371, Validation loss: 0.034808270829288585\n",
      "Finished Training\n",
      "Total time elapsed: 354.32 seconds\n"
     ]
    }
   ],
   "source": [
    "net1 = AutoEncoder()\n",
    "train(net1,train_loader,vali_loader, num_epochs=30)"
   ]
  },
  {
   "cell_type": "code",
   "execution_count": 30,
   "metadata": {},
   "outputs": [
    {
     "data": {
      "image/png": "[encoded data removed]",
      "text/plain": [
       "<Figure size 432x288 with 1 Axes>"
      ]
     },
     "metadata": {
      "needs_background": "light"
     },
     "output_type": "display_data"
    },
    {
     "data": {
      "image/png": "[encoded data removed]",
      "text/plain": [
       "<Figure size 432x288 with 1 Axes>"
      ]
     },
     "metadata": {
      "needs_background": "light"
     },
     "output_type": "display_data"
    }
   ],
   "source": [
    "plot_training_curve(get_model_name(net1.name,batch_size=64,learning_rate=0.0001, epoch=30))"
   ]
  },
  {
   "cell_type": "markdown",
   "metadata": {},
   "source": [
    "### Part (d) [5 pt]\n",
    "\n",
    "Tune your hyperparameters, training at least 4 different models.\n",
    "\n",
    "Do not include all your training curves. Instead, explain what hyperparameters\n",
    "you tried, what their effect was, and what your thought process was as you \n",
    "chose the next set of hyperparameters to try."
   ]
  },
  {
   "cell_type": "markdown",
   "metadata": {},
   "source": [
    "### Explaination for Net2\n",
    "\n",
    "From net1, I realized that the learning rate I am using is not high enough as the model is being trained, the validation accuracy stay roughly the same. Therefore, I have decided to increase the learning rate by a magnitude of 10. "
   ]
  },
  {
   "cell_type": "code",
   "execution_count": 31,
   "metadata": {},
   "outputs": [
    {
     "name": "stdout",
     "output_type": "stream",
     "text": [
      "Epoch 1: Train acc: 0.5818838557653552, Train loss: 0.07098981226277634 |Validation acc: 0.5811631944444444, Validation loss: 0.0531075610534141\n",
      "Epoch 2: Train acc: 0.6054475552661768, Train loss: 0.03482385515857167 |Validation acc: 0.6019241898148148, Validation loss: 0.03907299992677413\n",
      "Epoch 3: Train acc: 0.6193842433262022, Train loss: 0.027407474954023913 |Validation acc: 0.6151620370370371, Validation loss: 0.031523821875452995\n",
      "Epoch 4: Train acc: 0.6234226273524943, Train loss: 0.02249214804568259 |Validation acc: 0.6202980324074074, Validation loss: 0.026593089904309364\n",
      "Epoch 5: Train acc: 0.6238877003689579, Train loss: 0.020117446003642032 |Validation acc: 0.6197916666666666, Validation loss: 0.024847939888244134\n",
      "Epoch 6: Train acc: 0.627011440796205, Train loss: 0.017934213917514513 |Validation acc: 0.6242042824074074, Validation loss: 0.022233658682620318\n",
      "Epoch 7: Train acc: 0.630894800483676, Train loss: 0.016661745717179703 |Validation acc: 0.6287615740740741, Validation loss: 0.019973087467645343\n",
      "Epoch 8: Train acc: 0.6326620779462375, Train loss: 0.015227889357471856 |Validation acc: 0.6283637152777778, Validation loss: 0.019492463707074262\n",
      "Epoch 9: Train acc: 0.6336464824977521, Train loss: 0.014758438594606139 |Validation acc: 0.6286892361111112, Validation loss: 0.018021449544712118\n",
      "Epoch 10: Train acc: 0.6333829411217561, Train loss: 0.01343663403963344 |Validation acc: 0.6285807291666666, Validation loss: 0.017493807514639276\n",
      "Epoch 11: Train acc: 0.6384367345673271, Train loss: 0.01269755565812839 |Validation acc: 0.6326316550925926, Validation loss: 0.015898399087682105\n",
      "Epoch 12: Train acc: 0.6403280315009456, Train loss: 0.012451625163791264 |Validation acc: 0.6355251736111112, Validation loss: 0.01594761126723729\n",
      "Epoch 13: Train acc: 0.6425293771122066, Train loss: 0.012331067212755054 |Validation acc: 0.6367549189814815, Validation loss: 0.014376584840775058\n",
      "Epoch 14: Train acc: 0.6414519579573993, Train loss: 0.01181442340841456 |Validation acc: 0.6372251157407407, Validation loss: 0.014853499388616336\n",
      "Epoch 15: Train acc: 0.6448624934114656, Train loss: 0.011865239176562039 |Validation acc: 0.6380931712962963, Validation loss: 0.014793092956799165\n",
      "Epoch 16: Train acc: 0.6455446005022789, Train loss: 0.011377819275582977 |Validation acc: 0.6422526041666666, Validation loss: 0.014863996709321151\n",
      "Epoch 17: Train acc: 0.6475521656900133, Train loss: 0.011662850774774875 |Validation acc: 0.6434461805555556, Validation loss: 0.01475659237455642\n",
      "Epoch 18: Train acc: 0.6482342727808266, Train loss: 0.011050112118518937 |Validation acc: 0.6427589699074074, Validation loss: 0.014187866013104978\n",
      "Epoch 19: Train acc: 0.6503658574396181, Train loss: 0.011523318863183658 |Validation acc: 0.6451099537037037, Validation loss: 0.014031046004802511\n",
      "Epoch 20: Train acc: 0.6476296778594239, Train loss: 0.010810297052997775 |Validation acc: 0.6434100115740741, Validation loss: 0.014070798328407762\n",
      "Epoch 21: Train acc: 0.6505286329953803, Train loss: 0.01092189048535746 |Validation acc: 0.6463758680555556, Validation loss: 0.01314782773618374\n",
      "Epoch 22: Train acc: 0.6522571543732366, Train loss: 0.010806956333287878 |Validation acc: 0.6476417824074074, Validation loss: 0.01432939171137517\n",
      "Epoch 23: Train acc: 0.6484513068551763, Train loss: 0.01020417138533418 |Validation acc: 0.6416015625, Validation loss: 0.0140830200541307\n",
      "Epoch 24: Train acc: 0.6517610764890088, Train loss: 0.010415638925491083 |Validation acc: 0.6467013888888888, Validation loss: 0.012917553278895324\n",
      "Epoch 25: Train acc: 0.6519548569125353, Train loss: 0.01033504734655914 |Validation acc: 0.6448567708333334, Validation loss: 0.012384292837068961\n",
      "Epoch 26: Train acc: 0.6547840510960221, Train loss: 0.01084440858352056 |Validation acc: 0.6499565972222222, Validation loss: 0.012661409025129518\n",
      "Epoch 27: Train acc: 0.6511642327845472, Train loss: 0.010209062918799567 |Validation acc: 0.6475332754629629, Validation loss: 0.01381911286724764\n",
      "Epoch 28: Train acc: 0.653605866120981, Train loss: 0.010118735756570314 |Validation acc: 0.6511863425925926, Validation loss: 0.01308327071826186\n",
      "Epoch 29: Train acc: 0.6545515145877903, Train loss: 0.009860160183686574 |Validation acc: 0.6500651041666666, Validation loss: 0.013657002015398783\n",
      "Epoch 30: Train acc: 0.6519161008278299, Train loss: 0.010048020731945155 |Validation acc: 0.6476056134259259, Validation loss: 0.012799219824700501\n",
      "Finished Training\n",
      "Total time elapsed: 357.35 seconds\n"
     ]
    }
   ],
   "source": [
    "net2 = AutoEncoder()\n",
    "train(net2,train_loader,vali_loader, num_epochs=30, learning_rate=0.001)"
   ]
  },
  {
   "cell_type": "code",
   "execution_count": 32,
   "metadata": {},
   "outputs": [
    {
     "data": {
      "image/png": "[encoded data removed]",
      "text/plain": [
       "<Figure size 432x288 with 1 Axes>"
      ]
     },
     "metadata": {
      "needs_background": "light"
     },
     "output_type": "display_data"
    },
    {
     "data": {
      "image/png": "[encoded data removed]",
      "text/plain": [
       "<Figure size 432x288 with 1 Axes>"
      ]
     },
     "metadata": {
      "needs_background": "light"
     },
     "output_type": "display_data"
    }
   ],
   "source": [
    "plot_training_curve(get_model_name(net2.name,batch_size=64,learning_rate=0.001, epoch=30))"
   ]
  },
  {
   "cell_type": "markdown",
   "metadata": {},
   "source": [
    "### Explaination for Net3\n",
    "\n",
    "As I have observed from Net2, having a high learning rate did not make the validation performance increase by much. Therefore, I decide to make some adjustment of the batch size of the model. "
   ]
  },
  {
   "cell_type": "code",
   "execution_count": 33,
   "metadata": {},
   "outputs": [
    {
     "name": "stdout",
     "output_type": "stream",
     "text": [
      "Epoch 1: Train acc: 0.4710026974234955, Train loss: 0.10551973053160504 |Validation acc: 0.4693287037037037, Validation loss: 0.04327415897135149\n",
      "Epoch 2: Train acc: 0.5306793166527145, Train loss: 0.061089539713055425 |Validation acc: 0.5309606481481481, Validation loss: 0.03449017698304695\n",
      "Epoch 3: Train acc: 0.567985923790035, Train loss: 0.05042004693277489 |Validation acc: 0.5656467013888888, Validation loss: 0.028988673825535858\n",
      "Epoch 4: Train acc: 0.5826512262425201, Train loss: 0.041224390047894424 |Validation acc: 0.5807291666666666, Validation loss: 0.024839175244172413\n",
      "Epoch 5: Train acc: 0.5896195702725328, Train loss: 0.03682147654203268 |Validation acc: 0.5881076388888888, Validation loss: 0.022799982640304063\n",
      "Epoch 6: Train acc: 0.6084395250054259, Train loss: 0.03404002652101263 |Validation acc: 0.6046730324074074, Validation loss: 0.020629264937158217\n",
      "Epoch 7: Train acc: 0.6150280594053267, Train loss: 0.031024570439076988 |Validation acc: 0.6101707175925926, Validation loss: 0.019039524555729145\n",
      "Epoch 8: Train acc: 0.6147567668123896, Train loss: 0.02786090727564851 |Validation acc: 0.6109302662037037, Validation loss: 0.01716749092335241\n",
      "Epoch 9: Train acc: 0.6176789755991691, Train loss: 0.025728648462327273 |Validation acc: 0.6149088541666666, Validation loss: 0.015868530396306722\n",
      "Epoch 10: Train acc: 0.620523672216538, Train loss: 0.02363214720062603 |Validation acc: 0.6163917824074074, Validation loss: 0.01467109719912211\n",
      "Epoch 11: Train acc: 0.6197175456546677, Train loss: 0.022108201047725227 |Validation acc: 0.6166811342592593, Validation loss: 0.013631818718031832\n",
      "Epoch 12: Train acc: 0.6263913434409202, Train loss: 0.021350785671077538 |Validation acc: 0.6236617476851852, Validation loss: 0.01319593632299649\n",
      "Epoch 13: Train acc: 0.6220119058692215, Train loss: 0.02026762322869879 |Validation acc: 0.6200086805555556, Validation loss: 0.013200840847403333\n",
      "Epoch 14: Train acc: 0.6276625430192541, Train loss: 0.01883746307762064 |Validation acc: 0.6262659143518519, Validation loss: 0.012362806780035035\n",
      "Epoch 15: Train acc: 0.6316079124422534, Train loss: 0.01821636000769378 |Validation acc: 0.6295211226851852, Validation loss: 0.011397730575449634\n",
      "Epoch 16: Train acc: 0.6344603602765634, Train loss: 0.01723114894868354 |Validation acc: 0.6333912037037037, Validation loss: 0.010868721788651064\n",
      "Epoch 17: Train acc: 0.6358168232412489, Train loss: 0.016204519941300684 |Validation acc: 0.6348379629629629, Validation loss: 0.010433715898870375\n",
      "Epoch 18: Train acc: 0.6363981645118284, Train loss: 0.015961717428452163 |Validation acc: 0.6345486111111112, Validation loss: 0.009810976308296648\n",
      "Epoch 19: Train acc: 0.6374988373174588, Train loss: 0.015134972222590234 |Validation acc: 0.6364655671296297, Validation loss: 0.010205744733020924\n",
      "Epoch 20: Train acc: 0.6346231358323257, Train loss: 0.01488005342623274 |Validation acc: 0.6327401620370371, Validation loss: 0.009887885220610258\n",
      "Epoch 21: Train acc: 0.6368477350944098, Train loss: 0.014108081791858525 |Validation acc: 0.6346932870370371, Validation loss: 0.008997076223686076\n",
      "Epoch 22: Train acc: 0.6371655349889933, Train loss: 0.014302405236652617 |Validation acc: 0.6347294560185185, Validation loss: 0.009530009914254933\n",
      "Epoch 23: Train acc: 0.6413976994388119, Train loss: 0.014500972241736375 |Validation acc: 0.6400462962962963, Validation loss: 0.008644730734981988\n",
      "Epoch 24: Train acc: 0.6377313738256907, Train loss: 0.01371015940886542 |Validation acc: 0.6370804398148148, Validation loss: 0.008961270955440245\n",
      "Epoch 25: Train acc: 0.6429479428270238, Train loss: 0.01331180538265751 |Validation acc: 0.6417462384259259, Validation loss: 0.00833320602970688\n",
      "Epoch 26: Train acc: 0.6431882305521966, Train loss: 0.012937982541856153 |Validation acc: 0.6417100694444444, Validation loss: 0.008473973149401053\n",
      "Epoch 27: Train acc: 0.6431572256844325, Train loss: 0.012958996750127811 |Validation acc: 0.6418547453703703, Validation loss: 0.007700043616064808\n",
      "Epoch 28: Train acc: 0.6468313025144947, Train loss: 0.013155209994461585 |Validation acc: 0.6467737268518519, Validation loss: 0.00819671486520715\n",
      "Epoch 29: Train acc: 0.6457383809258054, Train loss: 0.012344872843496193 |Validation acc: 0.6454716435185185, Validation loss: 0.00769530376419425\n",
      "Epoch 30: Train acc: 0.6483582922518836, Train loss: 0.012285204403124441 |Validation acc: 0.6479673032407407, Validation loss: 0.00796362318163901\n",
      "Finished Training\n",
      "Total time elapsed: 400.94 seconds\n"
     ]
    }
   ],
   "source": [
    "train_loader, test_loader, vali_loader = get_data_loader(batch_size=128)\n",
    "net3 = AutoEncoder()\n",
    "train(net3,train_loader,vali_loader, num_epochs=30, learning_rate=0.0006, batch_size=128)"
   ]
  },
  {
   "cell_type": "code",
   "execution_count": 34,
   "metadata": {},
   "outputs": [
    {
     "data": {
      "image/png": "[encoded data removed]",
      "text/plain": [
       "<Figure size 432x288 with 1 Axes>"
      ]
     },
     "metadata": {
      "needs_background": "light"
     },
     "output_type": "display_data"
    },
    {
     "data": {
      "image/png": "[encoded data removed]",
      "text/plain": [
       "<Figure size 432x288 with 1 Axes>"
      ]
     },
     "metadata": {
      "needs_background": "light"
     },
     "output_type": "display_data"
    }
   ],
   "source": [
    "plot_training_curve(get_model_name(net3.name,batch_size=128,learning_rate=0.0006, epoch=30))"
   ]
  },
  {
   "cell_type": "markdown",
   "metadata": {},
   "source": [
    "### Explaination for Net4\n",
    "\n",
    "As I have observed from Net3, having a high batch size did not make the validation performance increase by much from Net2. Therefore, I decide to increase both the batch size and the learning rate. However, this action may result in over-fitting and increases in noise for the model. I am planning to overfit the mode first and then find out new parameters based on the data given. In addition, I also increase the numuber of epoches to 50. I am hoping that this would also help to increase the validation to be greater than 65%."
   ]
  },
  {
   "cell_type": "code",
   "execution_count": 35,
   "metadata": {},
   "outputs": [
    {
     "name": "stdout",
     "output_type": "stream",
     "text": [
      "Epoch 1: Train acc: 0.5133786004402692, Train loss: 0.09030418023026202 |Validation acc: 0.5120804398148148, Validation loss: 0.03556143681992564\n",
      "Epoch 2: Train acc: 0.5757448919480358, Train loss: 0.05029133544165707 |Validation acc: 0.5739655671296297, Validation loss: 0.02768354281260256\n",
      "Epoch 3: Train acc: 0.5884413852974917, Train loss: 0.03861296615568844 |Validation acc: 0.5868778935185185, Validation loss: 0.022746017954328603\n",
      "Epoch 4: Train acc: 0.6129584844820637, Train loss: 0.03419670834035211 |Validation acc: 0.6094111689814815, Validation loss: 0.02023227323304143\n",
      "Epoch 5: Train acc: 0.617151892847177, Train loss: 0.029196264299415273 |Validation acc: 0.6121238425925926, Validation loss: 0.017492544036685376\n",
      "Epoch 6: Train acc: 0.6171828977149413, Train loss: 0.02556832662656815 |Validation acc: 0.61328125, Validation loss: 0.015225274226906007\n",
      "Epoch 7: Train acc: 0.6159427030043717, Train loss: 0.02203079929145483 |Validation acc: 0.6133174189814815, Validation loss: 0.014085263504009498\n",
      "Epoch 8: Train acc: 0.6282981428084209, Train loss: 0.020453675132046437 |Validation acc: 0.6257957175925926, Validation loss: 0.01204901824198794\n",
      "Epoch 9: Train acc: 0.6293833131801693, Train loss: 0.0179881094210952 |Validation acc: 0.6270978009259259, Validation loss: 0.01190791285613127\n",
      "Epoch 10: Train acc: 0.6351114624996125, Train loss: 0.017306593186139356 |Validation acc: 0.6336805555555556, Validation loss: 0.010682239556652411\n",
      "Epoch 11: Train acc: 0.6341038042972746, Train loss: 0.01644469504437503 |Validation acc: 0.6327401620370371, Validation loss: 0.0106614846082633\n",
      "Epoch 12: Train acc: 0.6374135739311072, Train loss: 0.015458618593815516 |Validation acc: 0.6366825810185185, Validation loss: 0.009714676099911071\n",
      "Epoch 13: Train acc: 0.6342510774191548, Train loss: 0.015277448413375567 |Validation acc: 0.6340060763888888, Validation loss: 0.009137383482435294\n",
      "Epoch 14: Train acc: 0.638289461445447, Train loss: 0.015078951825095704 |Validation acc: 0.6369719328703703, Validation loss: 0.008487112362656677\n",
      "Epoch 15: Train acc: 0.6410488946764642, Train loss: 0.014620189141680503 |Validation acc: 0.6406973379629629, Validation loss: 0.009096553434797545\n",
      "Epoch 16: Train acc: 0.6389948221870834, Train loss: 0.014000161545428299 |Validation acc: 0.6368995949074074, Validation loss: 0.009426185534450045\n",
      "Epoch 17: Train acc: 0.6452423030415775, Train loss: 0.013526584231156921 |Validation acc: 0.6437355324074074, Validation loss: 0.008911754641877977\n",
      "Epoch 18: Train acc: 0.6444284252627662, Train loss: 0.01302803303087516 |Validation acc: 0.6425057870370371, Validation loss: 0.0077106471728991\n",
      "Epoch 19: Train acc: 0.6475676681238954, Train loss: 0.012782663638709037 |Validation acc: 0.6438440393518519, Validation loss: 0.008333507222695309\n",
      "Epoch 20: Train acc: 0.6485830775431742, Train loss: 0.012197240547844644 |Validation acc: 0.6459780092592593, Validation loss: 0.0076683795635114635\n",
      "Epoch 21: Train acc: 0.6476219266424829, Train loss: 0.01175968044233569 |Validation acc: 0.6453269675925926, Validation loss: 0.007704440937295817\n",
      "Epoch 22: Train acc: 0.6493039407186928, Train loss: 0.011573331843863225 |Validation acc: 0.646484375, Validation loss: 0.007642375860820737\n",
      "Epoch 23: Train acc: 0.6510479645304312, Train loss: 0.01124561058919458 |Validation acc: 0.6498119212962963, Validation loss: 0.006852759064681697\n",
      "Epoch 24: Train acc: 0.6559157287694168, Train loss: 0.011549388623339008 |Validation acc: 0.6533564814814815, Validation loss: 0.006735856203656448\n",
      "Epoch 25: Train acc: 0.6519316032617121, Train loss: 0.011008464516355442 |Validation acc: 0.6483289930555556, Validation loss: 0.0070530168891868045\n",
      "Epoch 26: Train acc: 0.6568923821039904, Train loss: 0.0109452329460289 |Validation acc: 0.6530309606481481, Validation loss: 0.007070429394381088\n",
      "Epoch 27: Train acc: 0.6566598455957585, Train loss: 0.010998907857216321 |Validation acc: 0.6540798611111112, Validation loss: 0.006355090189333025\n",
      "Epoch 28: Train acc: 0.6566908504635228, Train loss: 0.010836809774386813 |Validation acc: 0.6544053819444444, Validation loss: 0.006443533531733249\n",
      "Epoch 29: Train acc: 0.6577760208352711, Train loss: 0.01024602193760096 |Validation acc: 0.6555627893518519, Validation loss: 0.0066831975342019605\n",
      "Epoch 30: Train acc: 0.6564118066536446, Train loss: 0.010734053094424968 |Validation acc: 0.6523799189814815, Validation loss: 0.006505648254237154\n",
      "Epoch 31: Train acc: 0.6552181192447214, Train loss: 0.010666252819259139 |Validation acc: 0.6502821180555556, Validation loss: 0.00761111474416235\n",
      "Epoch 32: Train acc: 0.6526834713049949, Train loss: 0.010332128823839526 |Validation acc: 0.6485098379629629, Validation loss: 0.006424583412968276\n",
      "Epoch 33: Train acc: 0.658527888878554, Train loss: 0.01018682463072549 |Validation acc: 0.6561414930555556, Validation loss: 0.006152693043348559\n",
      "Epoch 34: Train acc: 0.6601788980869997, Train loss: 0.010038413669495188 |Validation acc: 0.6559606481481481, Validation loss: 0.006388123408613498\n",
      "Epoch 35: Train acc: 0.6602099029547639, Train loss: 0.009925950470121478 |Validation acc: 0.6570818865740741, Validation loss: 0.006310822777123305\n",
      "Epoch 36: Train acc: 0.6578225281369176, Train loss: 0.009304778496101057 |Validation acc: 0.6561776620370371, Validation loss: 0.0071935457782002915\n",
      "Epoch 37: Train acc: 0.6594580349114811, Train loss: 0.010350856312809612 |Validation acc: 0.6581669560185185, Validation loss: 0.006834700197112142\n",
      "Epoch 38: Train acc: 0.6606827271881686, Train loss: 0.009862899953863148 |Validation acc: 0.6558159722222222, Validation loss: 0.00593648936697527\n",
      "Epoch 39: Train acc: 0.6621089511053235, Train loss: 0.010386356218723504 |Validation acc: 0.6592520254629629, Validation loss: 0.006308273052829399\n",
      "Epoch 40: Train acc: 0.661388087929805, Train loss: 0.010281997349818606 |Validation acc: 0.6579137731481481, Validation loss: 0.007045037129469085\n",
      "Epoch 41: Train acc: 0.6609075124794592, Train loss: 0.00952625072136874 |Validation acc: 0.6565755208333334, Validation loss: 0.006207015528752093\n",
      "Epoch 42: Train acc: 0.6595200446470095, Train loss: 0.009473258632196653 |Validation acc: 0.6532841435185185, Validation loss: 0.0065850000174944865\n",
      "Epoch 43: Train acc: 0.6663876228567885, Train loss: 0.010064029625269788 |Validation acc: 0.6609519675925926, Validation loss: 0.006284438384075959\n",
      "Epoch 44: Train acc: 0.6645893405264627, Train loss: 0.01008261942453462 |Validation acc: 0.6598307291666666, Validation loss: 0.0059179192523292285\n",
      "Epoch 45: Train acc: 0.6658915449725606, Train loss: 0.009823209228622313 |Validation acc: 0.6616753472222222, Validation loss: 0.006117465628082292\n",
      "Epoch 46: Train acc: 0.6647288624314017, Train loss: 0.009719089362439672 |Validation acc: 0.6612413194444444, Validation loss: 0.005794214403354808\n",
      "Epoch 47: Train acc: 0.6638839797848263, Train loss: 0.010268994766844095 |Validation acc: 0.6588903356481481, Validation loss: 0.005688731811875314\n",
      "Epoch 48: Train acc: 0.6622949803119089, Train loss: 0.009533431504979819 |Validation acc: 0.6591073495370371, Validation loss: 0.005723518964818172\n",
      "Epoch 49: Train acc: 0.6656435060304468, Train loss: 0.009507259042636001 |Validation acc: 0.6631944444444444, Validation loss: 0.0065219804906008535\n",
      "Epoch 50: Train acc: 0.6643102967165845, Train loss: 0.009259169323358839 |Validation acc: 0.6610604745370371, Validation loss: 0.005908353401249961\n",
      "Finished Training\n",
      "Total time elapsed: 492.40 seconds\n"
     ]
    }
   ],
   "source": [
    "net4 = AutoEncoder()\n",
    "train(net4,train_loader,vali_loader, num_epochs=50, learning_rate=0.001, batch_size=128)"
   ]
  },
  {
   "cell_type": "code",
   "execution_count": 36,
   "metadata": {},
   "outputs": [
    {
     "data": {
      "image/png": "[encoded data removed]",
      "text/plain": [
       "<Figure size 432x288 with 1 Axes>"
      ]
     },
     "metadata": {
      "needs_background": "light"
     },
     "output_type": "display_data"
    },
    {
     "data": {
      "image/png": "[encoded data removed]",
      "text/plain": [
       "<Figure size 432x288 with 1 Axes>"
      ]
     },
     "metadata": {
      "needs_background": "light"
     },
     "output_type": "display_data"
    }
   ],
   "source": [
    "from a4code import plot_training_curve50\n",
    "plot_training_curve50(get_model_name(net4.name,batch_size=128,learning_rate=0.001, epoch=50))"
   ]
  },
  {
   "cell_type": "markdown",
   "metadata": {},
   "source": [
    "### Explaination for Net4\n",
    "\n",
    "As I have observed from Net4, having a high batch size increased the validation performance by a little bit. It did introduce more noise towards the end of the training process. Therefore, I decide to decrease the batch size and increase the learning rate. However, this action may cause more errors due to too much leap while training the network. Running the model for 50 epoch seems to have acchieved some outcome. But this might be a result of overfitting. However, we will remain it at 50 epoch."
   ]
  },
  {
   "cell_type": "code",
   "execution_count": 37,
   "metadata": {},
   "outputs": [
    {
     "name": "stdout",
     "output_type": "stream",
     "text": [
      "Epoch 1: Train acc: 0.608191486063312, Train loss: 0.04932020922420817 |Validation acc: 0.6054325810185185, Validation loss: 0.03391919664123602\n",
      "Epoch 2: Train acc: 0.6153536105168511, Train loss: 0.02169934006336004 |Validation acc: 0.6094473379629629, Validation loss: 0.021996697214873212\n",
      "Epoch 3: Train acc: 0.6225854959228599, Train loss: 0.017193438667660297 |Validation acc: 0.6199725115740741, Validation loss: 0.020789152558631542\n",
      "Epoch 4: Train acc: 0.6323442780516542, Train loss: 0.015268954115391926 |Validation acc: 0.6300636574074074, Validation loss: 0.01702125262665121\n",
      "Epoch 5: Train acc: 0.6380724273710973, Train loss: 0.014185706322089677 |Validation acc: 0.6346932870370371, Validation loss: 0.01746656270207543\n",
      "Epoch 6: Train acc: 0.6401730071621244, Train loss: 0.013321702756838824 |Validation acc: 0.6370442708333334, Validation loss: 0.01594954263418913\n",
      "Epoch 7: Train acc: 0.6427774160543205, Train loss: 0.012383221166390781 |Validation acc: 0.6397569444444444, Validation loss: 0.013812324914493058\n",
      "Epoch 8: Train acc: 0.6379949152016867, Train loss: 0.011853757571395852 |Validation acc: 0.6354890046296297, Validation loss: 0.013358303468282285\n",
      "Epoch 9: Train acc: 0.6452345518246365, Train loss: 0.011433266324353148 |Validation acc: 0.6437717013888888, Validation loss: 0.013702877621542205\n",
      "Epoch 10: Train acc: 0.6428704306576133, Train loss: 0.010886663166137319 |Validation acc: 0.6408781828703703, Validation loss: 0.013702426497873507\n",
      "Epoch 11: Train acc: 0.6477769509813041, Train loss: 0.010678181381901665 |Validation acc: 0.6427951388888888, Validation loss: 0.013924673828704838\n",
      "Epoch 12: Train acc: 0.6478777168015378, Train loss: 0.010495430515603735 |Validation acc: 0.6432653356481481, Validation loss: 0.01262330903524631\n",
      "Epoch 13: Train acc: 0.6475676681238954, Train loss: 0.011170840744089435 |Validation acc: 0.6416739004629629, Validation loss: 0.012031560453275839\n",
      "Epoch 14: Train acc: 0.6452268006076954, Train loss: 0.010608764021251162 |Validation acc: 0.6392867476851852, Validation loss: 0.013075233984477165\n",
      "Epoch 15: Train acc: 0.6404520509720026, Train loss: 0.010671257619671413 |Validation acc: 0.6349103009259259, Validation loss: 0.012761478990381747\n",
      "Epoch 16: Train acc: 0.6501798282330326, Train loss: 0.010311188198382847 |Validation acc: 0.6467737268518519, Validation loss: 0.012672854791673129\n",
      "Epoch 17: Train acc: 0.6521486373360618, Train loss: 0.010269247556453465 |Validation acc: 0.6483289930555556, Validation loss: 0.012073621590899532\n",
      "Epoch 18: Train acc: 0.6473661364834279, Train loss: 0.009838212302883186 |Validation acc: 0.6416015625, Validation loss: 0.013699363729213937\n",
      "Epoch 19: Train acc: 0.6494744674913961, Train loss: 0.010080779542682211 |Validation acc: 0.6439163773148148, Validation loss: 0.012754034929042845\n",
      "Epoch 20: Train acc: 0.6493349455864571, Train loss: 0.010799302056967903 |Validation acc: 0.6464482060185185, Validation loss: 0.012863726653322055\n",
      "Epoch 21: Train acc: 0.6343130871546833, Train loss: 0.010017289765571584 |Validation acc: 0.6309678819444444, Validation loss: 0.011796589246379179\n",
      "Epoch 22: Train acc: 0.6472421170123709, Train loss: 0.010261438196961622 |Validation acc: 0.6426142939814815, Validation loss: 0.012087891678930375\n",
      "Epoch 23: Train acc: 0.654380987815087, Train loss: 0.009891059429962355 |Validation acc: 0.6505714699074074, Validation loss: 0.010909467102273515\n",
      "Epoch 24: Train acc: 0.6531252906706353, Train loss: 0.009657841827305868 |Validation acc: 0.6488715277777778, Validation loss: 0.01294657539805038\n",
      "Epoch 25: Train acc: 0.6512649986047809, Train loss: 0.009534899918473042 |Validation acc: 0.6465567129629629, Validation loss: 0.013135707998452218\n",
      "Epoch 26: Train acc: 0.6562877871825876, Train loss: 0.009931352387461534 |Validation acc: 0.6499565972222222, Validation loss: 0.012482379248627183\n",
      "Epoch 27: Train acc: 0.6466607757417915, Train loss: 0.00945184728336584 |Validation acc: 0.6442418981481481, Validation loss: 0.011618334828598196\n",
      "Epoch 28: Train acc: 0.6550630949059002, Train loss: 0.009548178469093423 |Validation acc: 0.6492693865740741, Validation loss: 0.010939326051524595\n",
      "Epoch 29: Train acc: 0.6580628158620904, Train loss: 0.009469227421094694 |Validation acc: 0.6511863425925926, Validation loss: 0.012707124982976862\n",
      "Epoch 30: Train acc: 0.6475056583883669, Train loss: 0.009883196753634898 |Validation acc: 0.6422887731481481, Validation loss: 0.012161873967239731\n",
      "Epoch 31: Train acc: 0.655683192261185, Train loss: 0.009625807354083003 |Validation acc: 0.6528501157407407, Validation loss: 0.012033443125945172\n",
      "Epoch 32: Train acc: 0.6561792701454129, Train loss: 0.009245093357790737 |Validation acc: 0.6531756365740741, Validation loss: 0.011333674159750604\n",
      "Epoch 33: Train acc: 0.6597758348060645, Train loss: 0.009631486563979252 |Validation acc: 0.6557074652777778, Validation loss: 0.012009188271405404\n",
      "Epoch 34: Train acc: 0.6536911295073327, Train loss: 0.00912214003058388 |Validation acc: 0.6508246527777778, Validation loss: 0.011819111269065425\n",
      "Epoch 35: Train acc: 0.6567141041143459, Train loss: 0.009278446603124237 |Validation acc: 0.6545862268518519, Validation loss: 0.011781628541811778\n",
      "Epoch 36: Train acc: 0.6599773664465322, Train loss: 0.009157301526439296 |Validation acc: 0.6569372106481481, Validation loss: 0.011362758056636443\n",
      "Epoch 37: Train acc: 0.651792081356773, Train loss: 0.009210435379965324 |Validation acc: 0.6493055555555556, Validation loss: 0.012123878890027603\n",
      "Epoch 38: Train acc: 0.6609695222149877, Train loss: 0.009396567018370997 |Validation acc: 0.6578414351851852, Validation loss: 0.010812613818990556\n",
      "Epoch 39: Train acc: 0.6571946795646917, Train loss: 0.00939626208484416 |Validation acc: 0.6538266782407407, Validation loss: 0.010768889224875653\n",
      "Epoch 40: Train acc: 0.6567838650668155, Train loss: 0.009202071807543451 |Validation acc: 0.6507884837962963, Validation loss: 0.011089088403407419\n",
      "Epoch 41: Train acc: 0.6535051003007473, Train loss: 0.009149372402180639 |Validation acc: 0.6498119212962963, Validation loss: 0.011868704032773772\n",
      "Epoch 42: Train acc: 0.6552026168108394, Train loss: 0.00924621430676132 |Validation acc: 0.6532479745370371, Validation loss: 0.012280435873228208\n",
      "Epoch 43: Train acc: 0.6575744891948035, Train loss: 0.00897695751341187 |Validation acc: 0.6555266203703703, Validation loss: 0.011087110809360942\n",
      "Epoch 44: Train acc: 0.6626980435928441, Train loss: 0.008707831160494233 |Validation acc: 0.6572627314814815, Validation loss: 0.011603313665673659\n",
      "Epoch 45: Train acc: 0.6526524664372306, Train loss: 0.009046564739507013 |Validation acc: 0.6491247106481481, Validation loss: 0.010503386208591493\n",
      "Epoch 46: Train acc: 0.6629305801010759, Train loss: 0.008996254752752115 |Validation acc: 0.6626519097222222, Validation loss: 0.011713231521609583\n",
      "Epoch 47: Train acc: 0.6603416736427619, Train loss: 0.009259370364281915 |Validation acc: 0.6568648726851852, Validation loss: 0.012461003653394679\n",
      "Epoch 48: Train acc: 0.6623259851796732, Train loss: 0.009300784537436038 |Validation acc: 0.6585648148148148, Validation loss: 0.01162774042683866\n",
      "Epoch 49: Train acc: 0.6576520013642142, Train loss: 0.009311098055444238 |Validation acc: 0.6537181712962963, Validation loss: 0.010921220932351915\n",
      "Epoch 50: Train acc: 0.6521408861191207, Train loss: 0.009178714522710539 |Validation acc: 0.6469545717592593, Validation loss: 0.012599185444087837\n",
      "Finished Training\n",
      "Total time elapsed: 573.04 seconds\n"
     ]
    }
   ],
   "source": [
    "train_loader, test_loader, vali_loader = get_data_loader(batch_size=64)\n",
    "\n",
    "net5 = AutoEncoder()\n",
    "train(net5,train_loader,vali_loader, num_epochs=50, learning_rate=0.003, batch_size=64)"
   ]
  },
  {
   "cell_type": "code",
   "execution_count": 39,
   "metadata": {},
   "outputs": [
    {
     "data": {
      "image/png": "[encoded data removed]",
      "text/plain": [
       "<Figure size 432x288 with 1 Axes>"
      ]
     },
     "metadata": {
      "needs_background": "light"
     },
     "output_type": "display_data"
    },
    {
     "data": {
      "image/png": "[encoded data removed]",
      "text/plain": [
       "<Figure size 432x288 with 1 Axes>"
      ]
     },
     "metadata": {
      "needs_background": "light"
     },
     "output_type": "display_data"
    }
   ],
   "source": [
    "plot_training_curve50(get_model_name(net5.name,batch_size=64,learning_rate=0.003, epoch=50))"
   ]
  },
  {
   "cell_type": "markdown",
   "metadata": {},
   "source": [
    "### Conclusion on Hyperparameters\n",
    "\n",
    "    Base on the results from the graph, the decrease in batch size with increased learning rate have introduced more noise. Therefore the net4 will be the best model to be used to test for the test set. "
   ]
  },
  {
   "cell_type": "markdown",
   "metadata": {},
   "source": [
    "## Part 4. Testing [6 pt]\n",
    "\n",
    "### Part (a) [1 pt]\n",
    "\n",
    "Compute the test accuracy across the test set."
   ]
  },
  {
   "cell_type": "code",
   "execution_count": 45,
   "metadata": {},
   "outputs": [
    {
     "data": {
      "text/plain": [
       "0.6617115162037037"
      ]
     },
     "execution_count": 45,
     "metadata": {},
     "output_type": "execute_result"
    }
   ],
   "source": [
    "test_acc = get_accuracy(net4, test_loader)\n",
    "test_acc"
   ]
  },
  {
   "cell_type": "markdown",
   "metadata": {},
   "source": [
    "### Part (b) [2 pt]\n",
    "\n",
    "Consider an alterative, baseline model that predicts missing data as follows. To predict a missing feature, the\n",
    "baseline model will look at the **most common value** of the feature in the training set. For example, if the feature \"marriage\" is missing, then this model's prediction will be the most common value for \"marriage\" in the training set.\n",
    "\n",
    "What would be the test accuracy of this baseline model?\n",
    "\n",
    "It is often helpful to use the performance of the baseline model to help judge how well our model is actually performing. No explanation is required in this question, just your calculations."
   ]
  },
  {
   "cell_type": "code",
   "execution_count": null,
   "metadata": {},
   "outputs": [],
   "source": [
    "# find the most commond entry for all columns \n",
    "\n"
   ]
  },
  {
   "cell_type": "markdown",
   "metadata": {},
   "source": [
    "### Part (c) [1 pt]\n",
    "\n",
    "Look at the first item in your test data. \n",
    "Do you think it is reasonable for a human\n",
    "to be able to guess this person's education level\n",
    "based on their other features? Explain."
   ]
  },
  {
   "cell_type": "code",
   "execution_count": 47,
   "metadata": {
    "scrolled": true
   },
   "outputs": [
    {
     "name": "stdout",
     "output_type": "stream",
     "text": [
      "Education Level:  Bachelors\n",
      "All feature:  {'work': 'Private', 'marriage': 'Divorced', 'occupation': 'Prof-specialty', 'edu': 'Bachelors', 'relationship': 'Not-in-family', 'sex': 'Male'}\n"
     ]
    }
   ],
   "source": [
    "first_row = test_data[0]\n",
    "features = get_features(first_row)\n",
    "print(\"Education Level: \",get_feature(first_row, \"edu\"))\n",
    "print(\"All feature: \", features)"
   ]
  },
  {
   "cell_type": "markdown",
   "metadata": {},
   "source": [
    "    People could judge others' education based on other features. However, this is not 100% relatable as not all the feature would make sense to play a role in the education level of an individual. Therefore, I do not beleive it's reasonable to judge base on those features. "
   ]
  },
  {
   "cell_type": "markdown",
   "metadata": {},
   "source": [
    "### Part (d) [2 pt]\n",
    "\n",
    "What is your model's guess of this person's education\n",
    "level, given their other features?\n"
   ]
  },
  {
   "cell_type": "code",
   "execution_count": 77,
   "metadata": {},
   "outputs": [
    {
     "name": "stdout",
     "output_type": "stream",
     "text": [
      "Bachelors\n"
     ]
    }
   ],
   "source": [
    "for item in test_loader:\n",
    "    out = net4(zero_out_feature(item.clone(), \"edu\")).detach().numpy()\n",
    "    break\n",
    "\n",
    "print(get_feature(out[0],\"edu\"))\n"
   ]
  },
  {
   "cell_type": "code",
   "execution_count": null,
   "metadata": {},
   "outputs": [],
   "source": []
  }
 ],
 "metadata": {
  "kernelspec": {
   "display_name": "Python 3",
   "language": "python",
   "name": "python3"
  },
  "language_info": {
   "codemirror_mode": {
    "name": "ipython",
    "version": 3
   },
   "file_extension": ".py",
   "mimetype": "text/x-python",
   "name": "python",
   "nbconvert_exporter": "python",
   "pygments_lexer": "ipython3",
   "version": "3.6.7"
  }
 },
 "nbformat": 4,
 "nbformat_minor": 2
}
